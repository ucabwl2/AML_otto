{
  "nbformat": 4,
  "nbformat_minor": 0,
  "metadata": {
    "colab": {
      "name": "model_2.ipynb",
      "provenance": [],
      "collapsed_sections": []
    },
    "kernelspec": {
      "name": "python3",
      "display_name": "Python 3"
    },
    "accelerator": "TPU"
  },
  "cells": [
    {
      "cell_type": "code",
      "metadata": {
        "id": "r7llfxvohZFe",
        "colab_type": "code",
        "colab": {
          "base_uri": "https://localhost:8080/",
          "height": 34
        },
        "outputId": "46e9965b-18da-4a09-a15f-70ef47e0244e"
      },
      "source": [
        "import sys\n",
        "import logging\n",
        "import time\n",
        "import numpy as np\n",
        "import pandas as pd\n",
        "import os.path\n",
        "\n",
        "from sklearn.model_selection import StratifiedKFold, GridSearchCV\n",
        "from sklearn.metrics import log_loss\n",
        "from sklearn.preprocessing import StandardScaler\n",
        "from sklearn.decomposition import PCA\n",
        "from sklearn.manifold import TSNE\n",
        "from sklearn.linear_model import LogisticRegression\n",
        "from sklearn.ensemble import RandomForestClassifier, ExtraTreesClassifier\n",
        "from sklearn.neighbors import KNeighborsClassifier\n",
        "from sklearn.neighbors import NearestNeighbors\n",
        "from sklearn.ensemble import BaggingClassifier\n",
        "\n",
        "from xgboost import XGBClassifier\n",
        "\n",
        "from keras.models import Sequential\n",
        "from keras.layers import Dense, Dropout\n",
        "from keras.wrappers.scikit_learn import KerasClassifier\n",
        "from keras.regularizers import l1_l2\n",
        "import pickle"
      ],
      "execution_count": 1,
      "outputs": [
        {
          "output_type": "stream",
          "text": [
            "Using TensorFlow backend.\n"
          ],
          "name": "stderr"
        }
      ]
    },
    {
      "cell_type": "code",
      "metadata": {
        "id": "u4dJdtsDvSxU",
        "colab_type": "code",
        "colab": {}
      },
      "source": [
        "def elapsed_time(start_time, end_time):\n",
        "    elapsed_sec = end_time - start_time\n",
        "    h = int(elapsed_sec / (60 * 60))\n",
        "    m = int((elapsed_sec % (60 * 60)) / 60)\n",
        "    s = int(elapsed_sec % 60)\n",
        "    return \"{}:{:>02}:{:>02}\".format(h, m, s)"
      ],
      "execution_count": 0,
      "outputs": []
    },
    {
      "cell_type": "code",
      "metadata": {
        "id": "a3dnvwBDeCw3",
        "colab_type": "code",
        "colab": {}
      },
      "source": [
        "def evaluate(y, y_pred):\n",
        "    logloss = log_loss(y, y_pred)\n",
        "    return logloss"
      ],
      "execution_count": 0,
      "outputs": []
    },
    {
      "cell_type": "code",
      "metadata": {
        "id": "SOs82zRuvS-D",
        "colab_type": "code",
        "colab": {}
      },
      "source": [
        "def load_data(train_data_path='data/train.csv', test_data_path = 'data/test.csv'):\n",
        "    train_df = pd.read_csv(train_data_path, sep=',', index_col=0, header=0)\n",
        "    test_df = pd.read_csv(test_data_path, sep=',', index_col=0, header=0)\n",
        "    \n",
        "    train_df['target'] = train_df['target'].str[-1].astype(int) - 1\n",
        "        \n",
        "    return train_df, test_df"
      ],
      "execution_count": 0,
      "outputs": []
    },
    {
      "cell_type": "code",
      "metadata": {
        "id": "Mdc1qDWyvTAh",
        "colab_type": "code",
        "colab": {}
      },
      "source": [
        "def process_data(train_df, test_df, ylabel='target', standarization=False, discretization=False, transform=None):\n",
        "    numerical_features = train_df.columns\n",
        "\n",
        "    if standarization:\n",
        "        standarized_features = numerical_features\n",
        "        standarize_feature(train_df, test_df, standarized_features)\n",
        "        \n",
        "    if discretization:\n",
        "        discretized_features = numerical_features\n",
        "        discretize_feature(train_df, test_df, discretized_features, num_bins=10, how='equal_freq')\n",
        "    \n",
        "    X = train_df.drop(ylabel, axis=1).values\n",
        "    y = train_df[ylabel].values\n",
        "    X_submission = test_df.values\n",
        "    \n",
        "    if transform == 'log':\n",
        "        X = np.log1p(X)\n",
        "        X_submission = np.log1p(X_submission)\n",
        "    elif transform == 'sqrt':\n",
        "        X = np.sqrt(X + 3.0 / 8)\n",
        "        X_submission = np.sqrt(X_submission + 3.0 / 8)\n",
        "    elif transform == 'pca':\n",
        "        pca = PCA(n_components=3).fit(X)\n",
        "        X = pca.transform(X)\n",
        "        X_submission = pca.transform(X_submission)\n",
        "    elif transform == 'tsne':\n",
        "        tsne = TSNE(n_components=3).fit(X)\n",
        "        X = tsne.transform(X)\n",
        "        X_submission = tsne.transform(X_submission)\n",
        "    elif transform == 'pca+':\n",
        "        pca = PCA(n_components=3).fit(X)\n",
        "        X = np.hstack((X, pca.transform(X)))\n",
        "        X_submission = np.hstack((X, pca.transform(X)))\n",
        "    elif transform == 'tsne+':\n",
        "        tsne = TSNE(n_components=3).fit(X)\n",
        "        X = np.hstack((X, tsne.transform(X)))\n",
        "        X_submission = np.hstack((X_submission, tsne.transform(X_submission)))        \n",
        "    return X, y, X_submission"
      ],
      "execution_count": 0,
      "outputs": []
    },
    {
      "cell_type": "code",
      "metadata": {
        "id": "H0FBlC_Vve0v",
        "colab_type": "code",
        "colab": {}
      },
      "source": [
        "def model_CV_train(model, X, y, X_submission, n_classes, n_folds=5):\n",
        "    summary = {}\n",
        "\n",
        "    skf = list(StratifiedKFold(n_folds, random_state=0).split(X, y))\n",
        "    \n",
        "    stack_train = np.zeros((X.shape[0], n_classes))\n",
        "    stack_test = np.zeros((X_submission.shape[0], n_classes))\n",
        "    \n",
        "#     print(\"Model :\" model)\n",
        "\n",
        "    avg_logloss = 0\n",
        "\n",
        "    stack_test_model = np.zeros((X_submission.shape[0], n_classes, len(skf)))\n",
        "    for j, (train_idx, test_idx) in enumerate(skf):\n",
        "        print (\"  Fold %d\" % j)\n",
        "        X_train = X[train_idx]\n",
        "        y_train = y[train_idx]\n",
        "        X_test = X[test_idx]\n",
        "        y_test = y[test_idx]\n",
        "\n",
        "        model.fit(X_train, y_train)\n",
        "\n",
        "        y_test_pred = model.predict_proba(X_test)          \n",
        "        stack_train[test_idx, :] = y_test_pred\n",
        "\n",
        "        logloss = evaluate(y_test, y_test_pred)\n",
        "        avg_logloss += logloss\n",
        "        print (\"  logloss: %f\" % logloss)\n",
        "\n",
        "        y_submission_pred = model.predict_proba(X_submission)           \n",
        "        stack_test_model[:, :, j] = y_submission_pred\n",
        "\n",
        "    avg_logloss = avg_logloss / n_folds\n",
        "    print (\"model average logloss: %f\" % avg_logloss)\n",
        "    summary = avg_logloss\n",
        "\n",
        "    stack_test[:, :] = stack_test_model.mean(axis=2)\n",
        "\n",
        "    return stack_train, stack_test, summary"
      ],
      "execution_count": 0,
      "outputs": []
    },
    {
      "cell_type": "code",
      "metadata": {
        "id": "1dNMM5Bjve3M",
        "colab_type": "code",
        "outputId": "21a3ffaf-ce28-4838-8f0b-521f2015c1d0",
        "colab": {
          "base_uri": "https://localhost:8080/",
          "height": 50
        }
      },
      "source": [
        "start_time = time.time()\n",
        "\n",
        "logging.basicConfig(level=logging.DEBUG,\n",
        "                    format='[%(asctime)s]: %(message)s ',\n",
        "                    datefmt='%Y-%m-%d %H:%M:%S',\n",
        "                    stream=sys.stdout,\n",
        "                    filemode=\"w\"\n",
        "                    )\n",
        "# load data\n",
        "logging.info('Load data')\n",
        "train_df, test_df = load_data(train_data_path='applied/otto/train.csv', test_data_path='applied/otto/test.csv')\n",
        "X, y, X_submission = process_data(train_df, test_df, transform='log')"
      ],
      "execution_count": 7,
      "outputs": [
        {
          "output_type": "stream",
          "text": [
            "[2020-02-27 02:56:04]: Load data \n",
            "[2020-02-27 02:56:05]: NumExpr defaulting to 8 threads. \n"
          ],
          "name": "stdout"
        }
      ]
    },
    {
      "cell_type": "code",
      "metadata": {
        "id": "sJ7reNoAve7H",
        "colab_type": "code",
        "colab": {}
      },
      "source": [
        "# Tune parameters\n",
        "\n",
        "model =  LogisticRegression(penalty='l2', random_state=42)\n",
        "parameters = {\n",
        "    # 'C': [5.0, 4.0, 3.0, 2.0, 1.0, 0.1, 0.15, 0.01, 0.015, 0.001]\n",
        "    'C': np.linspace(3.0, 5.0, num=200)\n",
        "    }\n",
        "classifier=GridSearchCV(estimator=model, param_grid=parameters, scoring='neg_log_loss', verbose=1, n_jobs=-1, cv=5);  "
      ],
      "execution_count": 0,
      "outputs": []
    },
    {
      "cell_type": "code",
      "metadata": {
        "id": "9KelcEDNvqCK",
        "colab_type": "code",
        "outputId": "c43ffa60-7e9a-4ede-8a9f-fa9e0dffa3e1",
        "colab": {
          "base_uri": "https://localhost:8080/",
          "height": 50
        }
      },
      "source": [
        "classifier.fit(X, y);"
      ],
      "execution_count": 0,
      "outputs": [
        {
          "output_type": "stream",
          "text": [
            "Fitting 5 folds for each of 200 candidates, totalling 1000 fits\n"
          ],
          "name": "stdout"
        },
        {
          "output_type": "stream",
          "text": [
            "[Parallel(n_jobs=4)]: Using backend LokyBackend with 4 concurrent workers.\n"
          ],
          "name": "stderr"
        }
      ]
    },
    {
      "cell_type": "code",
      "metadata": {
        "id": "vIoYlDGstyxy",
        "colab_type": "code",
        "colab": {}
      },
      "source": [
        "print(classifier.cv_results_.keys())\n",
        "print('best_params: ',classifier.best_params_)\n",
        "print('best_score: ',classifier.best_score_)\n",
        "for i in range(len(classifier.cv_results_['params'])):\n",
        "  print('{}, {}'.format(classifier.cv_results_['params'][i], classifier.cv_results_['mean_test_score'][i]))"
      ],
      "execution_count": 0,
      "outputs": []
    },
    {
      "cell_type": "code",
      "metadata": {
        "id": "9vGtwNhrkoA-",
        "colab_type": "code",
        "colab": {}
      },
      "source": [
        "best_model = LogisticRegression(penalty='l2', \n",
        "                                C = classifier.best_params_['C'],\n",
        "                                random_state=42,\n",
        "                                n_jobs = -1 ) "
      ],
      "execution_count": 0,
      "outputs": []
    },
    {
      "cell_type": "markdown",
      "metadata": {
        "id": "t0QGoJ_gz4mt",
        "colab_type": "text"
      },
      "source": [
        ""
      ]
    },
    {
      "cell_type": "code",
      "metadata": {
        "id": "KJIRO78vRvzo",
        "colab_type": "code",
        "colab": {}
      },
      "source": [
        "model_2_path = \"applied/otto/model_2.csv\"\n",
        "C = []\n",
        "mean_test_score = []\n",
        "if os.path.exists(model_2_path):\n",
        "    previous_gridsearch = pd.read_csv(model_2_path, sep=',', header=0)\n",
        "    for i in range(previous_gridsearch.values.shape[0]):\n",
        "        C.append(previous_gridsearch.values[i][0])\n",
        "        mean_test_score.append(previous_gridsearch.values[i][1])"
      ],
      "execution_count": 0,
      "outputs": []
    },
    {
      "cell_type": "code",
      "metadata": {
        "id": "tgnG0kUVqxfN",
        "colab_type": "code",
        "colab": {}
      },
      "source": [
        "submit = pd.DataFrame()\n",
        "\n",
        "for i in range(len(classifier.cv_results_['params'])):\n",
        "    C.append(classifier.cv_results_['params'][i]['C'])\n",
        "    mean_test_score.append(classifier.cv_results_['mean_test_score'][i])\n",
        "  # print(classifier.cv_results_['params'][i]['n_estimators'])\n",
        "submit[\"C\"] = C\n",
        "submit[\"mean_test_score\"] = mean_test_score\n",
        "submit.to_csv(\"applied/otto/model_2.csv\", index = False)"
      ],
      "execution_count": 0,
      "outputs": []
    },
    {
      "cell_type": "code",
      "metadata": {
        "id": "WWsKjBW6qWN9",
        "colab_type": "code",
        "colab": {}
      },
      "source": [
        "# Train model using best parameters\n",
        "train_models_pred, test_models_pred, summary = model_CV_train(best_model, X, y, X_submission, n_classes=9, n_folds=5)\n",
        "end_time = time.time()\n",
        "logging.info(\"Run complete: %s elapsed\" % elapsed_time(start_time, end_time))"
      ],
      "execution_count": 0,
      "outputs": []
    },
    {
      "cell_type": "code",
      "metadata": {
        "id": "DZASULt7j-TY",
        "colab_type": "code",
        "colab": {}
      },
      "source": [
        "pkl_filename = \"applied/otto/train_models_pred_model_2.pkl\"\n",
        "with open(pkl_filename, 'wb') as file:\n",
        "    pickle.dump(train_models_pred, file)\n",
        "pkl_filename = \"applied/otto/test_models_pred_model_2.pkl\"\n",
        "with open(pkl_filename, 'wb') as file:\n",
        "    pickle.dump(test_models_pred, file)\n",
        "# with open(pkl_filename, 'rb') as file:\n",
        "#   test = pickle.load(file)\n",
        "# print(test.shape)\n",
        "pkl_filename = \"applied/otto/summary_model_2.pkl\"\n",
        "with open(pkl_filename, 'wb') as file:\n",
        "    pickle.dump(summary, file)"
      ],
      "execution_count": 0,
      "outputs": []
    },
    {
      "cell_type": "code",
      "metadata": {
        "id": "iQxlSkJSeN9I",
        "colab_type": "code",
        "colab": {}
      },
      "source": [
        ""
      ],
      "execution_count": 0,
      "outputs": []
    }
  ]
}