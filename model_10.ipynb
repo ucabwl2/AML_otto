{
  "nbformat": 4,
  "nbformat_minor": 0,
  "metadata": {
    "kernelspec": {
      "name": "python3",
      "display_name": "Python 3"
    },
    "language_info": {
      "codemirror_mode": {
        "name": "ipython",
        "version": 3
      },
      "file_extension": ".py",
      "mimetype": "text/x-python",
      "name": "python",
      "nbconvert_exporter": "python",
      "pygments_lexer": "ipython3",
      "version": "3.7.6"
    },
    "colab": {
      "name": "model_10.ipynb",
      "provenance": [],
      "collapsed_sections": []
    },
    "accelerator": "GPU"
  },
  "cells": [
    {
      "cell_type": "code",
      "metadata": {
        "id": "U9tz7F-aYBKQ",
        "colab_type": "code",
        "colab": {}
      },
      "source": [
        "import sys\n",
        "import logging\n",
        "import time\n",
        "import numpy as np\n",
        "import pandas as pd\n",
        "\n",
        "from sklearn.model_selection import StratifiedKFold, GridSearchCV\n",
        "from sklearn.metrics import log_loss\n",
        "from sklearn.preprocessing import StandardScaler\n",
        "from sklearn.decomposition import PCA\n",
        "from sklearn.manifold import TSNE\n",
        "from sklearn.cluster import KMeans\n",
        "from sklearn.linear_model import LogisticRegression\n",
        "from sklearn.ensemble import RandomForestClassifier, ExtraTreesClassifier\n",
        "from sklearn.neighbors import KNeighborsClassifier\n",
        "from sklearn.multiclass import OneVsRestClassifier\n",
        "\n",
        "from xgboost import XGBClassifier\n",
        "\n",
        "def elapsed_time(start_time, end_time):\n",
        "    elapsed_sec = end_time - start_time\n",
        "    h = int(elapsed_sec / (60 * 60))\n",
        "    m = int((elapsed_sec % (60 * 60)) / 60)\n",
        "    s = int(elapsed_sec % 60)\n",
        "    return \"{}:{:>02}:{:>02}\".format(h, m, s)\n",
        "\n",
        "def evaluate(y, y_pred):\n",
        "    logloss = log_loss(y, y_pred)\n",
        "    return logloss\n",
        "\n",
        "def load_data(train_data_path='Desktop/otto/train.csv', test_data_path = 'Desktop/otto/test.csv'):\n",
        "    train_df = pd.read_csv(train_data_path, sep=',', index_col=0, header=0)\n",
        "    test_df = pd.read_csv(test_data_path, sep=',', index_col=0, header=0)\n",
        "    \n",
        "    train_df['target'] = train_df['target'].str[-1].astype(int) - 1\n",
        "        \n",
        "    return train_df, test_df\n",
        "\n",
        "def model_CV_train(model, X, y, X_submission, n_classes, n_folds=5):\n",
        "    summary = {}\n",
        "\n",
        "    skf = list(StratifiedKFold(n_folds, random_state=0).split(X, y))\n",
        "    \n",
        "    stack_train = np.zeros((X.shape[0], n_classes))\n",
        "    stack_test = np.zeros((X_submission.shape[0], n_classes))\n",
        "    \n",
        "#     print(\"Model :\" model)\n",
        "\n",
        "    avg_logloss = 0\n",
        "\n",
        "    stack_test_model = np.zeros((X_submission.shape[0], n_classes, len(skf)))\n",
        "    for j, (train_idx, test_idx) in enumerate(skf):\n",
        "        print (\"  Fold %d\" % j)\n",
        "        X_train = X[train_idx]\n",
        "        y_train = y[train_idx]\n",
        "        X_test = X[test_idx]\n",
        "        y_test = y[test_idx]\n",
        "\n",
        "        model.fit(X_train, y_train)\n",
        "\n",
        "        y_test_pred = model.predict_proba(X_test)          \n",
        "        stack_train[test_idx, :] = y_test_pred\n",
        "\n",
        "        logloss = evaluate(y_test, y_test_pred)\n",
        "        avg_logloss += logloss\n",
        "        print (\"  logloss: %f\" % logloss)\n",
        "\n",
        "        y_submission_pred = model.predict_proba(X_submission)           \n",
        "        stack_test_model[:, :, j] = y_submission_pred\n",
        "\n",
        "    avg_logloss = avg_logloss / n_folds\n",
        "    print (\"model average logloss: %f\" % avg_logloss)\n",
        "    summary = avg_logloss\n",
        "\n",
        "    stack_test[:, :] = stack_test_model.mean(axis=2)\n",
        "\n",
        "    return stack_train, stack_test, summary\n",
        "\n",
        "def process_data(X, y, X_submission, ylabel='target', transform=None):\n",
        "#     X = train_df.drop(ylabel, axis=1).to_numpy()\n",
        "#     y = train_df[ylabel].to_numpy()\n",
        "#     X_submission = test_df.to_numpy()\n",
        "    \n",
        "    if len(transform.split()) == 1:\n",
        "        transform = transform.split()[0]\n",
        "    else:\n",
        "        k = int(transform.split()[1])\n",
        "        transform = transform.split()[0] \n",
        "#     print(transform, k)\n",
        "    \n",
        "    kmeans = 0\n",
        "    if transform == 'standarization':\n",
        "        scaler = StandardScaler()\n",
        "        scaler.fit(X)\n",
        "        X = scaler.transform(X)\n",
        "        X_submission = scaler.transform(X_submission)\n",
        "    elif transform == 'log':\n",
        "        X = np.log1p(X)\n",
        "        X_submission = np.log1p(X_submission)\n",
        "    elif transform == 'sqrt':\n",
        "        X = np.sqrt(X + 3.0 / 8)\n",
        "        X_submission = np.sqrt(X_submission + 3.0 / 8)\n",
        "    elif transform == 'pca':\n",
        "        pca = PCA(n_components=3).fit(X)\n",
        "        X = pca.transform(X)\n",
        "        X_submission = pca.transform(X_submission)\n",
        "    elif transform == 'tsne':\n",
        "#         tsne = TSNE(n_components=3).fit(X)\n",
        "#         X = tsne.transform(X)\n",
        "#         X_submission = tsne.transform(X_submission)\n",
        "        # X = TSNE(n_components=3).fit_transform(X)\n",
        "        # X_submission = TSNE(n_components=3).fit_transform(X_submission)\n",
        "        X_sum = np.vstack((X,X_submission))\n",
        "        X_sum = TSNE(n_components=3).fit_transform(X_sum)\n",
        "        X = X_sum[: X.shape[0], : ]\n",
        "        X_submission = X_sum[ X.shape[0]:,: ]\n",
        "    elif transform == 'kmeans':\n",
        "        kmeans = KMeans(n_clusters = k).fit(X)\n",
        "        X = kmeans.labels_\n",
        "        X_submission = kmeans.predict(X_submission)\n",
        "    elif transform == 'pca+':\n",
        "        pca = PCA(n_components=3).fit(X)\n",
        "        X = np.hstack((X, pca.transform(X)))\n",
        "        X_submission = np.hstack((X, pca.transform(X)))\n",
        "    elif transform == 'tsne+':\n",
        "#         tsne = TSNE(n_components=3).fit(X)\n",
        "        X = np.hstack((X, TSNE(n_components=3).fit_transform(X)))\n",
        "        X_submission = np.hstack((X_submission, TSNE(n_components=3).fit_transform(X_submission)))       \n",
        "#     print(X.shape)\n",
        "    return X, y, X_submission, kmeans\n",
        "\n"
      ],
      "execution_count": 0,
      "outputs": []
    },
    {
      "cell_type": "code",
      "metadata": {
        "id": "cgRzN8m7YBKi",
        "colab_type": "code",
        "outputId": "693f8907-54c3-4604-813f-15ea87f48359",
        "colab": {
          "base_uri": "https://localhost:8080/",
          "height": 34
        }
      },
      "source": [
        "start_time = time.time()\n",
        "\n",
        "logging.basicConfig(level=logging.DEBUG,\n",
        "                    format='[%(asctime)s]: %(message)s ',\n",
        "                    datefmt='%Y-%m-%d %H:%M:%S',\n",
        "                    stream=sys.stdout,\n",
        "                    filemode=\"w\"\n",
        "                    )\n",
        "\n",
        "# load data\n",
        "logging.info('Load data')\n",
        "train_df, test_df = load_data(train_data_path='Desktop/otto/train.csv', test_data_path='Desktop/otto/test.csv')\n",
        "\n",
        "# Process data\n",
        "X = train_df.drop('target', axis=1).to_numpy()\n",
        "y = train_df['target'].to_numpy()\n",
        "X_submission = test_df.to_numpy() \n",
        "X, y, X_submission, _ = process_data(X, y, X_submission, transform = 'log')\n"
      ],
      "execution_count": 0,
      "outputs": [
        {
          "output_type": "stream",
          "text": [
            "[2020-03-13 06:28:36]: Load data \n"
          ],
          "name": "stdout"
        }
      ]
    },
    {
      "cell_type": "code",
      "metadata": {
        "id": "DICR4xKmktiC",
        "colab_type": "code",
        "colab": {}
      },
      "source": [
        "X, y, X_submission, _ = process_data(X, y, X_submission, transform = 'tsne')"
      ],
      "execution_count": 0,
      "outputs": []
    },
    {
      "cell_type": "code",
      "metadata": {
        "id": "aP0pg2TjksPe",
        "colab_type": "code",
        "outputId": "040aafd0-4042-44ab-fc28-73ce697d26ec",
        "colab": {
          "base_uri": "https://localhost:8080/",
          "height": 34
        }
      },
      "source": [
        "\n",
        "\n",
        "Xo = np.copy(X)\n",
        "Xo_submission = np.copy(X_submission)    \n",
        "for i in range(2):\n",
        "    Xc = np.copy(Xo)\n",
        "    Xc_submission = np.copy(Xo_submission)\n",
        "    Xc, y, Xc_submission, kmeans = process_data(Xc, y, Xc_submission, transform = 'kmeans ' + str(8 + i))\n",
        "    Xc = kmeans.cluster_centers_[Xc]\n",
        "    Xc_submission = kmeans.cluster_centers_[Xc_submission]\n",
        "#         print(Xc)\n",
        "#         print(Xc_submission)\n",
        "    X = np.hstack((X, Xc))\n",
        "    X_submission = np.hstack((X_submission, Xc_submission))\n",
        "#     print(X.shape)\n",
        "#     print(X_submission.shape)\n",
        "\n",
        "# Export predictions\n",
        "np.savetxt(\"model10_train.csv\", X, delimiter=\",\")\n",
        "np.savetxt(\"model10_test.csv\", X_submission, delimiter=\",\")\n",
        "\n",
        "\n",
        "end_time = time.time()\n",
        "logging.info(\"Run complete: %s elapsed\" % elapsed_time(start_time, end_time))"
      ],
      "execution_count": 0,
      "outputs": [
        {
          "output_type": "stream",
          "text": [
            "[2020-03-13 16:07:13]: Run complete: 9:38:36 elapsed \n"
          ],
          "name": "stdout"
        }
      ]
    },
    {
      "cell_type": "code",
      "metadata": {
        "id": "mhUThXKKYpls",
        "colab_type": "code",
        "outputId": "639d02a0-bbea-440a-b0a6-41bb6eece97f",
        "colab": {
          "base_uri": "https://localhost:8080/",
          "height": 215
        }
      },
      "source": [
        "columns = ['Class_' + str(i + 1) for i in range(9)]\n",
        "submission_df = pd.DataFrame(test_models_pred, columns=columns)\n",
        "submission_df.index = submission_df.index + 1\n",
        "submission_df.to_csv('Desktop/otto/10_sub.csv', sep=',',index_label='id')"
      ],
      "execution_count": 0,
      "outputs": [
        {
          "output_type": "error",
          "ename": "NameError",
          "evalue": "ignored",
          "traceback": [
            "\u001b[1;31m---------------------------------------------------------------------------\u001b[0m",
            "\u001b[1;31mNameError\u001b[0m                                 Traceback (most recent call last)",
            "\u001b[1;32m<ipython-input-8-590101ff21e6>\u001b[0m in \u001b[0;36m<module>\u001b[1;34m\u001b[0m\n\u001b[0;32m      1\u001b[0m \u001b[0mcolumns\u001b[0m \u001b[1;33m=\u001b[0m \u001b[1;33m[\u001b[0m\u001b[1;34m'Class_'\u001b[0m \u001b[1;33m+\u001b[0m \u001b[0mstr\u001b[0m\u001b[1;33m(\u001b[0m\u001b[0mi\u001b[0m \u001b[1;33m+\u001b[0m \u001b[1;36m1\u001b[0m\u001b[1;33m)\u001b[0m \u001b[1;32mfor\u001b[0m \u001b[0mi\u001b[0m \u001b[1;32min\u001b[0m \u001b[0mrange\u001b[0m\u001b[1;33m(\u001b[0m\u001b[1;36m9\u001b[0m\u001b[1;33m)\u001b[0m\u001b[1;33m]\u001b[0m\u001b[1;33m\u001b[0m\u001b[1;33m\u001b[0m\u001b[0m\n\u001b[1;32m----> 2\u001b[1;33m \u001b[0msubmission_df\u001b[0m \u001b[1;33m=\u001b[0m \u001b[0mpd\u001b[0m\u001b[1;33m.\u001b[0m\u001b[0mDataFrame\u001b[0m\u001b[1;33m(\u001b[0m\u001b[0mtest_models_pred\u001b[0m\u001b[1;33m,\u001b[0m \u001b[0mcolumns\u001b[0m\u001b[1;33m=\u001b[0m\u001b[0mcolumns\u001b[0m\u001b[1;33m)\u001b[0m\u001b[1;33m\u001b[0m\u001b[1;33m\u001b[0m\u001b[0m\n\u001b[0m\u001b[0;32m      3\u001b[0m \u001b[0msubmission_df\u001b[0m\u001b[1;33m.\u001b[0m\u001b[0mindex\u001b[0m \u001b[1;33m=\u001b[0m \u001b[0msubmission_df\u001b[0m\u001b[1;33m.\u001b[0m\u001b[0mindex\u001b[0m \u001b[1;33m+\u001b[0m \u001b[1;36m1\u001b[0m\u001b[1;33m\u001b[0m\u001b[1;33m\u001b[0m\u001b[0m\n\u001b[0;32m      4\u001b[0m \u001b[0msubmission_df\u001b[0m\u001b[1;33m.\u001b[0m\u001b[0mto_csv\u001b[0m\u001b[1;33m(\u001b[0m\u001b[1;34m'Desktop/otto/10_sub.csv'\u001b[0m\u001b[1;33m,\u001b[0m \u001b[0msep\u001b[0m\u001b[1;33m=\u001b[0m\u001b[1;34m','\u001b[0m\u001b[1;33m,\u001b[0m\u001b[0mindex_label\u001b[0m\u001b[1;33m=\u001b[0m\u001b[1;34m'id'\u001b[0m\u001b[1;33m)\u001b[0m\u001b[1;33m\u001b[0m\u001b[1;33m\u001b[0m\u001b[0m\n",
            "\u001b[1;31mNameError\u001b[0m: name 'test_models_pred' is not defined"
          ]
        }
      ]
    }
  ]
}