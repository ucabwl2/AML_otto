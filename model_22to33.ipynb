{
  "nbformat": 4,
  "nbformat_minor": 0,
  "metadata": {
    "colab": {
      "name": "model_22to33.ipynb",
      "provenance": [],
      "collapsed_sections": [],
      "toc_visible": true
    },
    "kernelspec": {
      "name": "python3",
      "display_name": "Python 3"
    },
    "accelerator": "TPU"
  },
  "cells": [
    {
      "cell_type": "code",
      "metadata": {
        "id": "r7llfxvohZFe",
        "colab_type": "code",
        "colab": {}
      },
      "source": [
        "import sys\n",
        "import logging\n",
        "import time\n",
        "import numpy as np\n",
        "import pandas as pd\n",
        "import os.path\n",
        "\n",
        "from sklearn.model_selection import StratifiedKFold, GridSearchCV\n",
        "from sklearn.metrics import log_loss\n",
        "from sklearn.preprocessing import StandardScaler\n",
        "from sklearn.decomposition import PCA\n",
        "from sklearn.manifold import TSNE\n",
        "from sklearn.linear_model import LogisticRegression\n",
        "from sklearn.ensemble import RandomForestClassifier, ExtraTreesClassifier\n",
        "from sklearn.neighbors import KNeighborsClassifier\n",
        "from sklearn.neighbors import NearestNeighbors\n",
        "from sklearn.ensemble import BaggingClassifier\n",
        "\n",
        "from xgboost import XGBClassifier\n",
        "\n",
        "from keras.models import Sequential\n",
        "from keras.layers import Dense, Dropout\n",
        "from keras.wrappers.scikit_learn import KerasClassifier\n",
        "from keras.regularizers import l1_l2\n",
        "import pickle"
      ],
      "execution_count": 0,
      "outputs": []
    },
    {
      "cell_type": "code",
      "metadata": {
        "id": "u4dJdtsDvSxU",
        "colab_type": "code",
        "colab": {}
      },
      "source": [
        "def elapsed_time(start_time, end_time):\n",
        "    elapsed_sec = end_time - start_time\n",
        "    h = int(elapsed_sec / (60 * 60))\n",
        "    m = int((elapsed_sec % (60 * 60)) / 60)\n",
        "    s = int(elapsed_sec % 60)\n",
        "    return \"{}:{:>02}:{:>02}\".format(h, m, s)"
      ],
      "execution_count": 0,
      "outputs": []
    },
    {
      "cell_type": "code",
      "metadata": {
        "id": "a3dnvwBDeCw3",
        "colab_type": "code",
        "colab": {}
      },
      "source": [
        "def evaluate(y, y_pred):\n",
        "    logloss = log_loss(y, y_pred)\n",
        "    return logloss"
      ],
      "execution_count": 0,
      "outputs": []
    },
    {
      "cell_type": "code",
      "metadata": {
        "id": "SOs82zRuvS-D",
        "colab_type": "code",
        "colab": {}
      },
      "source": [
        "def load_data(train_data_path='data/train.csv', test_data_path = 'data/test.csv'):\n",
        "    train_df = pd.read_csv(train_data_path, sep=',', index_col=0, header=0)\n",
        "    test_df = pd.read_csv(test_data_path, sep=',', index_col=0, header=0)\n",
        "    \n",
        "    train_df['target'] = train_df['target'].str[-1].astype(int) - 1\n",
        "        \n",
        "    return train_df, test_df"
      ],
      "execution_count": 0,
      "outputs": []
    },
    {
      "cell_type": "code",
      "metadata": {
        "id": "Mdc1qDWyvTAh",
        "colab_type": "code",
        "colab": {}
      },
      "source": [
        "def process_data(train_df, test_df, ylabel='target', standarization=False, discretization=False, transform=None):\n",
        "    numerical_features = train_df.columns\n",
        "\n",
        "    if standarization:\n",
        "        standarized_features = numerical_features\n",
        "        standarize_feature(train_df, test_df, standarized_features)\n",
        "        \n",
        "    if discretization:\n",
        "        discretized_features = numerical_features\n",
        "        discretize_feature(train_df, test_df, discretized_features, num_bins=10, how='equal_freq')\n",
        "    \n",
        "    X = train_df.drop(ylabel, axis=1).values\n",
        "    y = train_df[ylabel].values\n",
        "    X_submission = test_df.values\n",
        "    \n",
        "    if transform == 'log':\n",
        "        X = np.log1p(X)\n",
        "        X_submission = np.log1p(X_submission)\n",
        "    elif transform == 'sqrt':\n",
        "        X = np.sqrt(X + 3.0 / 8)\n",
        "        X_submission = np.sqrt(X_submission + 3.0 / 8)\n",
        "    elif transform == 'pca':\n",
        "        pca = PCA(n_components=3).fit(X)\n",
        "        X = pca.transform(X)\n",
        "        X_submission = pca.transform(X_submission)\n",
        "    elif transform == 'tsne':\n",
        "        tsne = TSNE(n_components=3).fit(X)\n",
        "        X = tsne.transform(X)\n",
        "        X_submission = tsne.transform(X_submission)\n",
        "    elif transform == 'pca+':\n",
        "        pca = PCA(n_components=3).fit(X)\n",
        "        X = np.hstack((X, pca.transform(X)))\n",
        "        X_submission = np.hstack((X, pca.transform(X)))\n",
        "    elif transform == 'tsne+':\n",
        "        tsne = TSNE(n_components=3).fit(X)\n",
        "        X = np.hstack((X, tsne.transform(X)))\n",
        "        X_submission = np.hstack((X_submission, tsne.transform(X_submission)))        \n",
        "    return X, y, X_submission"
      ],
      "execution_count": 0,
      "outputs": []
    },
    {
      "cell_type": "code",
      "metadata": {
        "id": "H0FBlC_Vve0v",
        "colab_type": "code",
        "colab": {}
      },
      "source": [
        "def model_CV_train(model, X, y, X_submission, n_classes, n_folds=5):\n",
        "    summary = {}\n",
        "\n",
        "    skf = list(StratifiedKFold(n_folds, shuffle =True, random_state=0).split(X, y))\n",
        "    \n",
        "    stack_train = np.zeros((X.shape[0], n_classes))\n",
        "    stack_test = np.zeros((X_submission.shape[0], n_classes))\n",
        "    \n",
        "#     print(\"Model :\" model)\n",
        "\n",
        "    avg_logloss = 0\n",
        "\n",
        "    stack_test_model = np.zeros((X_submission.shape[0], n_classes, len(skf)))\n",
        "    for j, (train_idx, test_idx) in enumerate(skf):\n",
        "        print (\"  Fold %d\" % j)\n",
        "        X_train = X[train_idx]\n",
        "        y_train = y[train_idx]\n",
        "        X_test = X[test_idx]\n",
        "        y_test = y[test_idx]\n",
        "\n",
        "        model.fit(X_train, y_train)\n",
        "\n",
        "        y_test_pred = model.predict_proba(X_test)          \n",
        "        stack_train[test_idx, :] = y_test_pred\n",
        "\n",
        "        logloss = evaluate(y_test, y_test_pred)\n",
        "        avg_logloss += logloss\n",
        "        print (\"  logloss: %f\" % logloss)\n",
        "\n",
        "        y_submission_pred = model.predict_proba(X_submission)           \n",
        "        stack_test_model[:, :, j] = y_submission_pred\n",
        "\n",
        "    avg_logloss = avg_logloss / n_folds\n",
        "    print (\"model average logloss: %f\" % avg_logloss)\n",
        "    summary = avg_logloss\n",
        "\n",
        "    stack_test[:, :] = stack_test_model.mean(axis=2)\n",
        "\n",
        "    return stack_train, stack_test, summary, avg_logloss "
      ],
      "execution_count": 0,
      "outputs": []
    },
    {
      "cell_type": "code",
      "metadata": {
        "id": "1dNMM5Bjve3M",
        "colab_type": "code",
        "outputId": "d20b047e-fc42-4fbf-fce2-49c03e049732",
        "colab": {
          "base_uri": "https://localhost:8080/",
          "height": 33
        }
      },
      "source": [
        "start_time = time.time()\n",
        "\n",
        "logging.basicConfig(level=logging.DEBUG,\n",
        "                    format='[%(asctime)s]: %(message)s ',\n",
        "                    datefmt='%Y-%m-%d %H:%M:%S',\n",
        "                    stream=sys.stdout,\n",
        "                    filemode=\"w\"\n",
        "                    )\n",
        "# load data\n",
        "logging.info('Load data')\n",
        "train_df, test_df = load_data(train_data_path='applied/otto/train.csv', test_data_path='applied/otto/test.csv')\n",
        "X, y, X_submission = process_data(train_df, test_df, transform='None')"
      ],
      "execution_count": 15,
      "outputs": [
        {
          "output_type": "stream",
          "text": [
            "[2020-03-02 20:08:48]: Load data \n"
          ],
          "name": "stdout"
        }
      ]
    },
    {
      "cell_type": "markdown",
      "metadata": {
        "id": "Xk7A_r1HJSYG",
        "colab_type": "text"
      },
      "source": [
        "## Model 24 to 33"
      ]
    },
    {
      "cell_type": "code",
      "metadata": {
        "id": "sJ7reNoAve7H",
        "colab_type": "code",
        "outputId": "9283b079-59a7-4792-9588-782ff52eb671",
        "colab": {
          "base_uri": "https://localhost:8080/",
          "height": 234
        }
      },
      "source": [
        "# Tune parameters\n",
        "parameters = {\n",
        "    'n_neighbors': [2,4,8,16,32,64,128,256,512,1024]\n",
        "    }\n",
        "\n",
        "n_neighbors = []\n",
        "mean_test_score = []\n",
        "for i in range(len(parameters['n_neighbors'])):\n",
        "          model = KNeighborsClassifier(n_neighbors = parameters['n_neighbors'][i],\n",
        "                                        n_jobs=-1)\n",
        "          print(\"n_neighbors: {}\".format(parameters['n_neighbors'][i]))\n",
        "          train_models_pred, test_models_pred, summary, avg_logloss = model_CV_train(model, X, y, X_submission, n_classes=9, n_folds=5)\n",
        "          n_neighbors.append(parameters['n_neighbors'][i])\n",
        "          mean_test_score.append(avg_logloss)\n",
        "          np.savetxt(\"applied/otto/train_models_pred/model\" + str(i+24) + \"_train.csv\",  train_models_pred , delimiter=\",\")\n",
        "          np.savetxt(\"applied/otto/test_models_pred/model\" + str(i+24) + \"_test.csv\",  test_models_pred , delimiter=\",\")\n",
        "          end_time = time.time()\n",
        "logging.info(\"Run complete: %s elapsed\" % elapsed_time(start_time, end_time))"
      ],
      "execution_count": 16,
      "outputs": [
        {
          "output_type": "stream",
          "text": [
            "n_neighbors: 2\n",
            "  Fold 0\n",
            "  logloss: 4.936042\n",
            "  Fold 1\n",
            "  logloss: 5.080766\n",
            "  Fold 2\n",
            "  logloss: 4.969536\n",
            "  Fold 3\n",
            "  logloss: 5.017054\n",
            "  Fold 4\n",
            "  logloss: 5.020071\n",
            "model average logloss: 5.004694\n",
            "[2020-03-02 20:29:42]: Run complete: 0:20:54 elapsed \n"
          ],
          "name": "stdout"
        }
      ]
    },
    {
      "cell_type": "code",
      "metadata": {
        "id": "vApgjL8cJPgT",
        "colab_type": "code",
        "colab": {}
      },
      "source": [
        "train_df, test_df = load_data(train_data_path='applied/otto/train.csv', test_data_path='applied/otto/test.csv')\n",
        "X, y, X_submission = process_data(train_df, test_df, transform='None')"
      ],
      "execution_count": 0,
      "outputs": []
    },
    {
      "cell_type": "code",
      "metadata": {
        "id": "x4NT5UJbJPu-",
        "colab_type": "code",
        "colab": {}
      },
      "source": [
        "Model_22_X = X + np.squeeze(np.array([X==0]), axis=0)"
      ],
      "execution_count": 0,
      "outputs": []
    },
    {
      "cell_type": "code",
      "metadata": {
        "id": "epoUZCY3NPwq",
        "colab_type": "code",
        "colab": {
          "base_uri": "https://localhost:8080/",
          "height": 201
        },
        "outputId": "9961ddbb-3f08-4b95-b669-2ab1dbb841d8"
      },
      "source": [
        "model = KNeighborsClassifier(n_neighbors = 1,n_jobs=-1)\n",
        "train_models_pred, test_models_pred, summary, avg_logloss = model_CV_train(model, Model_22_X, y, X_submission, n_classes=9, n_folds=5)"
      ],
      "execution_count": 70,
      "outputs": [
        {
          "output_type": "stream",
          "text": [
            "  Fold 0\n",
            "  logloss: 9.093704\n",
            "  Fold 1\n",
            "  logloss: 9.242339\n",
            "  Fold 2\n",
            "  logloss: 9.245876\n",
            "  Fold 3\n",
            "  logloss: 9.335182\n",
            "  Fold 4\n",
            "  logloss: 9.213318\n",
            "model average logloss: 9.226084\n"
          ],
          "name": "stdout"
        }
      ]
    },
    {
      "cell_type": "code",
      "metadata": {
        "id": "YsvdGCnEXFv6",
        "colab_type": "code",
        "colab": {}
      },
      "source": [
        "np.savetxt(\"applied/otto/train_models_pred/model22_train.csv\",  train_models_pred , delimiter=\",\")\n",
        "np.savetxt(\"applied/otto/test_models_pred/model22_test.csv\",  test_models_pred , delimiter=\",\")"
      ],
      "execution_count": 0,
      "outputs": []
    },
    {
      "cell_type": "code",
      "metadata": {
        "id": "94L051hbOsf9",
        "colab_type": "code",
        "colab": {}
      },
      "source": [
        "X_log, y, X_submission = process_data(train_df, test_df, transform='log')"
      ],
      "execution_count": 0,
      "outputs": []
    },
    {
      "cell_type": "code",
      "metadata": {
        "id": "pOaz0020OWNO",
        "colab_type": "code",
        "colab": {}
      },
      "source": [
        "Model_23_X = X + np.squeeze(np.array([X==0]), axis=0) + X_log"
      ],
      "execution_count": 0,
      "outputs": []
    },
    {
      "cell_type": "code",
      "metadata": {
        "id": "aTfIi-txOWVH",
        "colab_type": "code",
        "colab": {
          "base_uri": "https://localhost:8080/",
          "height": 201
        },
        "outputId": "a43f69ec-5046-4c81-be74-208125586025"
      },
      "source": [
        "model = KNeighborsClassifier(n_neighbors = 1,n_jobs=-1)\n",
        "train_models_pred, test_models_pred, summary, avg_logloss = model_CV_train(model, Model_23_X, y, X_submission, n_classes=9, n_folds=5)"
      ],
      "execution_count": 74,
      "outputs": [
        {
          "output_type": "stream",
          "text": [
            "  Fold 0\n",
            "  logloss: 8.426814\n",
            "  Fold 1\n",
            "  logloss: 8.514002\n",
            "  Fold 2\n",
            "  logloss: 8.330498\n",
            "  Fold 3\n",
            "  logloss: 8.517481\n",
            "  Fold 4\n",
            "  logloss: 8.347825\n",
            "model average logloss: 8.427324\n"
          ],
          "name": "stdout"
        }
      ]
    },
    {
      "cell_type": "code",
      "metadata": {
        "id": "U31qmsTOcl5d",
        "colab_type": "code",
        "colab": {}
      },
      "source": [
        "np.savetxt(\"applied/otto/train_models_pred/model23_train.csv\",  train_models_pred , delimiter=\",\")\n",
        "np.savetxt(\"applied/otto/test_models_pred/model23_test.csv\",  test_models_pred , delimiter=\",\")"
      ],
      "execution_count": 0,
      "outputs": []
    },
    {
      "cell_type": "code",
      "metadata": {
        "id": "m_H_AFJ4cy9t",
        "colab_type": "code",
        "colab": {}
      },
      "source": [
        ""
      ],
      "execution_count": 0,
      "outputs": []
    }
  ]
}