{
  "nbformat": 4,
  "nbformat_minor": 0,
  "metadata": {
    "colab": {
      "name": "feature_1234567.ipynb",
      "provenance": [],
      "collapsed_sections": []
    },
    "kernelspec": {
      "name": "python3",
      "display_name": "Python 3"
    },
    "accelerator": "TPU"
  },
  "cells": [
    {
      "cell_type": "code",
      "metadata": {
        "id": "r7llfxvohZFe",
        "colab_type": "code",
        "colab": {}
      },
      "source": [
        "import sys\n",
        "import logging\n",
        "import time\n",
        "import numpy as np\n",
        "import pandas as pd\n",
        "import os.path\n",
        "\n",
        "from sklearn.model_selection import StratifiedKFold, GridSearchCV\n",
        "from sklearn.metrics import log_loss\n",
        "from sklearn.preprocessing import StandardScaler\n",
        "from sklearn.decomposition import PCA\n",
        "from sklearn.manifold import TSNE\n",
        "from sklearn.linear_model import LogisticRegression\n",
        "from sklearn.ensemble import RandomForestClassifier, ExtraTreesClassifier\n",
        "from sklearn.neighbors import KNeighborsClassifier\n",
        "from sklearn.neighbors import NearestNeighbors\n",
        "from sklearn.ensemble import BaggingClassifier\n",
        "from sklearn.naive_bayes import MultinomialNB\n",
        "from sklearn.manifold import TSNE\n",
        "from sklearn.cluster import KMeans\n",
        "from sklearn.feature_extraction.text import TfidfTransformer\n",
        "\n",
        "from xgboost import XGBClassifier\n",
        "\n",
        "from keras.models import Sequential\n",
        "from keras.layers import Dense, Dropout\n",
        "from keras.wrappers.scikit_learn import KerasClassifier\n",
        "from keras.regularizers import l1_l2\n",
        "import pickle"
      ],
      "execution_count": 0,
      "outputs": []
    },
    {
      "cell_type": "code",
      "metadata": {
        "id": "SOs82zRuvS-D",
        "colab_type": "code",
        "colab": {}
      },
      "source": [
        "def load_data(train_data_path='data/train.csv', test_data_path = 'data/test.csv'):\n",
        "    train_df = pd.read_csv(train_data_path, sep=',', index_col=0, header=0)\n",
        "    test_df = pd.read_csv(test_data_path, sep=',', index_col=0, header=0)\n",
        "    \n",
        "    train_df['target'] = train_df['target'].str[-1].astype(int) - 1\n",
        "        \n",
        "    return train_df, test_df"
      ],
      "execution_count": 0,
      "outputs": []
    },
    {
      "cell_type": "code",
      "metadata": {
        "id": "YwPcR5glN_RI",
        "colab_type": "code",
        "colab": {}
      },
      "source": [
        "def process_data(train_df, test_df, ylabel='target', standarization=False, discretization=False, transform=None):\n",
        "    numerical_features = train_df.columns\n",
        "\n",
        "    if standarization:\n",
        "        standarized_features = numerical_features\n",
        "        standarize_feature(train_df, test_df, standarized_features)\n",
        "        \n",
        "    if discretization:\n",
        "        discretized_features = numerical_features\n",
        "        discretize_feature(train_df, test_df, discretized_features, num_bins=10, how='equal_freq')\n",
        "    \n",
        "    X = train_df.drop(ylabel, axis=1).values\n",
        "    y = train_df[ylabel].values\n",
        "    X_submission = test_df.values\n",
        "    \n",
        "    if transform == 'log':\n",
        "        X = np.log1p(X)\n",
        "        X_submission = np.log1p(X_submission)\n",
        "    elif transform == 'sqrt':\n",
        "        X = np.sqrt(X + 3.0 / 8)\n",
        "        X_submission = np.sqrt(X_submission + 3.0 / 8)\n",
        "    elif transform == 'pca':\n",
        "        pca = PCA(n_components=3).fit(X)\n",
        "        X = pca.transform(X)\n",
        "        X_submission = pca.transform(X_submission)\n",
        "    elif transform == 'tsne':\n",
        "        tsne = TSNE(n_components=3).fit(X)\n",
        "        X = tsne.transform(X)\n",
        "        X_submission = tsne.transform(X_submission)\n",
        "    elif transform == 'pca+':\n",
        "        pca = PCA(n_components=3).fit(X)\n",
        "        X = np.hstack((X, pca.transform(X)))\n",
        "        X_submission = np.hstack((X, pca.transform(X)))\n",
        "    elif transform == 'tsne+':\n",
        "        tsne = TSNE(n_components=3).fit(X)\n",
        "        X = np.hstack((X, tsne.transform(X)))\n",
        "        X_submission = np.hstack((X_submission, tsne.transform(X_submission)))        \n",
        "    return X, y, X_submission"
      ],
      "execution_count": 0,
      "outputs": []
    },
    {
      "cell_type": "code",
      "metadata": {
        "id": "1dNMM5Bjve3M",
        "colab_type": "code",
        "outputId": "a3cc6e37-7e1a-4bb9-c2a5-c5152c52baff",
        "colab": {
          "base_uri": "https://localhost:8080/",
          "height": 34
        }
      },
      "source": [
        "\n",
        "start_time = time.time()\n",
        "\n",
        "logging.basicConfig(level=logging.DEBUG,\n",
        "                    format='[%(asctime)s]: %(message)s ',\n",
        "                    datefmt='%Y-%m-%d %H:%M:%S',\n",
        "                    stream=sys.stdout,\n",
        "                    filemode=\"w\"\n",
        "                    )\n",
        "# load data\n",
        "logging.info('Load data')\n",
        "train_df, test_df = load_data(train_data_path='applied/otto/train.csv', test_data_path='applied/otto/test.csv')\n",
        "X, y, X_submission = process_data(train_df, test_df, transform='none')"
      ],
      "execution_count": 0,
      "outputs": [
        {
          "output_type": "stream",
          "text": [
            "[2020-03-12 12:56:27]: Load data \n"
          ],
          "name": "stdout"
        }
      ]
    },
    {
      "cell_type": "markdown",
      "metadata": {
        "id": "KkUHXnVNo3sV",
        "colab_type": "text"
      },
      "source": [
        "# X Feature 1,2,3"
      ]
    },
    {
      "cell_type": "code",
      "metadata": {
        "id": "0uohsZ13ymBB",
        "colab_type": "code",
        "outputId": "240df9d8-3dcf-4a97-f550-65103ae82070",
        "colab": {
          "base_uri": "https://localhost:8080/",
          "height": 67
        }
      },
      "source": [
        "print(X.shape)\n",
        "class_row = [0]\n",
        "for i in range(9):\n",
        "    # if i ==0:\n",
        "    #     class_row.append(np.sum([x == i for x in y]))\n",
        "    # else:\n",
        "    class_row.append(np.sum([x == i for x in y]) + class_row[i])\n",
        "print(class_row)\n",
        "class_matrix = []\n",
        "for i in range(9):\n",
        "    class_matrix.append(X[ class_row[i]:class_row[i+1], :]) \n",
        "print(class_matrix[-1].shape)"
      ],
      "execution_count": 0,
      "outputs": [
        {
          "output_type": "stream",
          "text": [
            "(61878, 93)\n",
            "[0, 1929, 18051, 26055, 28746, 31485, 45620, 48459, 56923, 61878]\n",
            "(4955, 93)\n"
          ],
          "name": "stdout"
        }
      ]
    },
    {
      "cell_type": "code",
      "metadata": {
        "id": "_WO14O8czuaa",
        "colab_type": "code",
        "colab": {}
      },
      "source": [
        "# print(class_id)\n",
        "# print(np.sum(class_id))"
      ],
      "execution_count": 0,
      "outputs": []
    },
    {
      "cell_type": "code",
      "metadata": {
        "id": "gW0bTThHOBfy",
        "colab_type": "code",
        "outputId": "92e305a3-282b-4aaa-997c-3c5b1d8acc12",
        "colab": {
          "base_uri": "https://localhost:8080/",
          "height": 168
        }
      },
      "source": [
        "four_neigh_nearest_distance_matrix = []\n",
        "four_neigh_nearest_id_matrix = []\n",
        "for i in range(9):\n",
        "    print(i)\n",
        "    four_neigh = NearestNeighbors(n_neighbors=5, algorithm='kd_tree', radius=1000.0)\n",
        "    four_neigh.fit(class_matrix[i])\n",
        "    four_neigh_nearest_distance,four_neigh_nearest_id = four_neigh.kneighbors(X, return_distance=True)\n",
        "    four_neigh_nearest_distance_matrix.append(four_neigh_nearest_distance)\n",
        "    four_neigh_nearest_id_matrix.append(four_neigh_nearest_id)"
      ],
      "execution_count": 0,
      "outputs": [
        {
          "output_type": "stream",
          "text": [
            "0\n",
            "1\n",
            "2\n",
            "3\n",
            "4\n",
            "5\n",
            "6\n",
            "7\n",
            "8\n"
          ],
          "name": "stdout"
        }
      ]
    },
    {
      "cell_type": "code",
      "metadata": {
        "id": "g9U6TOYiQfiL",
        "colab_type": "code",
        "outputId": "904f8cc0-31e9-4587-939e-e34f59ca1d0f",
        "colab": {
          "base_uri": "https://localhost:8080/",
          "height": 353
        }
      },
      "source": [
        "four_neigh_nearest_distance_matrix_ = np.array(four_neigh_nearest_distance_matrix)\n",
        "print(four_neigh_nearest_distance_matrix_.shape)\n",
        "feature1 = []\n",
        "feature2 = []\n",
        "feature3 = []\n",
        "feature1 = four_neigh_nearest_distance_matrix_[:,:,0]\n",
        "print(four_neigh_nearest_distance_matrix_[:,:,0:2].shape)\n",
        "feature2 = np.sum(four_neigh_nearest_distance_matrix_[:,:,0:2], axis = 2)\n",
        "feature3 = np.sum(four_neigh_nearest_distance_matrix_[:,:,0:4], axis = 2)\n",
        "for i in range(9):\n",
        "    # print(feature1.shape)\n",
        "    feature1[i, class_row[i]:class_row[i+1]] = four_neigh_nearest_distance_matrix_[i, class_row[i]:class_row[i+1],1]\n",
        "for i in range(9):\n",
        "    print(feature2.shape)\n",
        "    print(four_neigh_nearest_distance_matrix_[i, class_row[i]:class_row[i+1] ,1:3].shape)\n",
        "    feature2[i, class_row[i]:class_row[i+1]] = np.sum(four_neigh_nearest_distance_matrix_[i, class_row[i]:class_row[i+1] ,1:3], axis = 1)\n",
        "for i in range(9):\n",
        "    # print(feature1.shape)\n",
        "    feature3[i, class_row[i]:class_row[i+1]] = np.sum(four_neigh_nearest_distance_matrix_[i, class_row[i]:class_row[i+1] , 1:5], axis = 1)\n",
        "\n",
        "# print(np.array(feature1).shape)\n",
        "# print(four_neigh_nearest_distance_matrix_[0,:,0])\n",
        "# print(np.array(feature1).shape)"
      ],
      "execution_count": 0,
      "outputs": [
        {
          "output_type": "stream",
          "text": [
            "(9, 61878, 5)\n",
            "(9, 61878, 2)\n",
            "(9, 61878)\n",
            "(1929, 2)\n",
            "(9, 61878)\n",
            "(16122, 2)\n",
            "(9, 61878)\n",
            "(8004, 2)\n",
            "(9, 61878)\n",
            "(2691, 2)\n",
            "(9, 61878)\n",
            "(2739, 2)\n",
            "(9, 61878)\n",
            "(14135, 2)\n",
            "(9, 61878)\n",
            "(2839, 2)\n",
            "(9, 61878)\n",
            "(8464, 2)\n",
            "(9, 61878)\n",
            "(4955, 2)\n"
          ],
          "name": "stdout"
        }
      ]
    },
    {
      "cell_type": "code",
      "metadata": {
        "id": "9-oGOksAQJJZ",
        "colab_type": "code",
        "colab": {}
      },
      "source": [
        "np.savetxt(\"applied/otto/feature1.csv\",  np.array(feature1).T , delimiter=\",\")\n",
        "np.savetxt(\"applied/otto/feature2.csv\",  np.array(feature2).T , delimiter=\",\")\n",
        "np.savetxt(\"applied/otto/feature3.csv\",  np.array(feature3).T , delimiter=\",\")"
      ],
      "execution_count": 0,
      "outputs": []
    },
    {
      "cell_type": "markdown",
      "metadata": {
        "id": "oC7v3ghwYKUo",
        "colab_type": "text"
      },
      "source": [
        "## X_submission_feature 1,2"
      ]
    },
    {
      "cell_type": "code",
      "metadata": {
        "id": "KAIlxE4HYIYa",
        "colab_type": "code",
        "outputId": "bbf4446a-2a29-40bf-a4ed-497e22eff904",
        "colab": {
          "base_uri": "https://localhost:8080/",
          "height": 168
        }
      },
      "source": [
        "four_neigh_nearest_distance_matrix_X_submission = []\n",
        "four_neigh_nearest_id_matrix_X_submission = []\n",
        "for i in range(9):\n",
        "    print(i)\n",
        "    four_neigh_X_submission  = NearestNeighbors(n_neighbors=5, algorithm='kd_tree', radius=1000.0)\n",
        "    four_neigh_X_submission.fit(class_matrix[i])\n",
        "    four_neigh_nearest_distance_X_submission ,four_neigh_nearest_id_X_submission  = four_neigh_X_submission.kneighbors(X_submission, return_distance=True)\n",
        "    four_neigh_nearest_distance_matrix_X_submission.append(four_neigh_nearest_distance_X_submission )\n",
        "    four_neigh_nearest_id_matrix_X_submission.append(four_neigh_nearest_id_X_submission )"
      ],
      "execution_count": 0,
      "outputs": [
        {
          "output_type": "stream",
          "text": [
            "0\n",
            "1\n",
            "2\n",
            "3\n",
            "4\n",
            "5\n",
            "6\n",
            "7\n",
            "8\n"
          ],
          "name": "stdout"
        }
      ]
    },
    {
      "cell_type": "code",
      "metadata": {
        "id": "pMdc2FuWi6GM",
        "colab_type": "code",
        "outputId": "64681f48-af64-47df-d8d1-81bd34d0471a",
        "colab": {
          "base_uri": "https://localhost:8080/",
          "height": 34
        }
      },
      "source": [
        "four_neigh_nearest_distance_matrix_X_submission_ = np.array(four_neigh_nearest_distance_matrix_X_submission)\n",
        "print(four_neigh_nearest_distance_matrix_X_submission_.shape)\n",
        "feature1_X_submission = []\n",
        "feature2_X_submission = []\n",
        "feature3_X_submission = []\n",
        "feature1_X_submission = four_neigh_nearest_distance_matrix_X_submission_[:,:,0]\n",
        "feature2_X_submission = np.sum(four_neigh_nearest_distance_matrix_X_submission_[:,:,0:2], axis = 2)\n",
        "feature3_X_submission = np.sum(four_neigh_nearest_distance_matrix_X_submission_[:,:,0:4], axis = 2)"
      ],
      "execution_count": 0,
      "outputs": [
        {
          "output_type": "stream",
          "text": [
            "(9, 144368, 5)\n"
          ],
          "name": "stdout"
        }
      ]
    },
    {
      "cell_type": "code",
      "metadata": {
        "id": "eqx7Oyfmjboi",
        "colab_type": "code",
        "colab": {}
      },
      "source": [
        "np.savetxt(\"applied/otto/feature1_X_submission.csv\",  np.array(feature1_X_submission).T , delimiter=\",\")\n",
        "np.savetxt(\"applied/otto/feature2_X_submission.csv\",  np.array(feature2_X_submission).T , delimiter=\",\")\n",
        "np.savetxt(\"applied/otto/feature3_X_submission.csv\",  np.array(feature3_X_submission).T , delimiter=\",\")"
      ],
      "execution_count": 0,
      "outputs": []
    },
    {
      "cell_type": "markdown",
      "metadata": {
        "id": "pnE6jU8eofVP",
        "colab_type": "text"
      },
      "source": [
        "# X feature 4"
      ]
    },
    {
      "cell_type": "code",
      "metadata": {
        "id": "QOQxVlG_VGhg",
        "colab_type": "code",
        "colab": {}
      },
      "source": [
        "X, y, X_submission = process_data(train_df, test_df, transform='None')\n",
        "transformer = TfidfTransformer(smooth_idf=False)\n",
        "tfidf = transformer.fit_transform(X)\n",
        "feature4_X = tfidf.toarray()"
      ],
      "execution_count": 0,
      "outputs": []
    },
    {
      "cell_type": "code",
      "metadata": {
        "id": "HjtUqEz6Vwli",
        "colab_type": "code",
        "outputId": "bcf77e8c-8d53-43e1-b33a-e9ae2f867792",
        "colab": {
          "base_uri": "https://localhost:8080/",
          "height": 34
        }
      },
      "source": [
        "print(feature4_X.shape)"
      ],
      "execution_count": 0,
      "outputs": [
        {
          "output_type": "stream",
          "text": [
            "(61878, 93)\n"
          ],
          "name": "stdout"
        }
      ]
    },
    {
      "cell_type": "code",
      "metadata": {
        "id": "O9IyzqkoWQEO",
        "colab_type": "code",
        "outputId": "baad3c39-4b6b-490f-dac6-79fda8972065",
        "colab": {
          "base_uri": "https://localhost:8080/",
          "height": 34
        }
      },
      "source": [
        "feature4_class_matrix = []\n",
        "for i in range(9):\n",
        "    feature4_class_matrix.append( feature4_X[ class_row[i]:class_row[i+1], :])\n",
        "print(np.array(feature4_class_matrix)[1].shape) "
      ],
      "execution_count": 0,
      "outputs": [
        {
          "output_type": "stream",
          "text": [
            "(16122, 93)\n"
          ],
          "name": "stdout"
        }
      ]
    },
    {
      "cell_type": "code",
      "metadata": {
        "id": "qeQArqmJVv8x",
        "colab_type": "code",
        "outputId": "66f40f97-7e45-4e68-98b1-09841569eaf0",
        "colab": {
          "base_uri": "https://localhost:8080/",
          "height": 168
        }
      },
      "source": [
        "nearest_distance_feature4_matrix = []\n",
        "nearest_id_feature4_matrix = []\n",
        "for i in range(9):\n",
        "    print(i)\n",
        "    neigh_feature4_X = NearestNeighbors(n_neighbors=2, algorithm='kd_tree', radius=1000.0)\n",
        "    neigh_feature4_X.fit(feature4_class_matrix[i])\n",
        "    nearest_distance_feature4,  nearest_id_feature4 = neigh_feature4_X.kneighbors(feature4_X, return_distance=True)\n",
        "    nearest_distance_feature4_matrix.append(nearest_distance_feature4)\n",
        "    nearest_id_feature4_matrix.append(nearest_id_feature4)"
      ],
      "execution_count": 0,
      "outputs": [
        {
          "output_type": "stream",
          "text": [
            "0\n",
            "1\n",
            "2\n",
            "3\n",
            "4\n",
            "5\n",
            "6\n",
            "7\n",
            "8\n"
          ],
          "name": "stdout"
        }
      ]
    },
    {
      "cell_type": "code",
      "metadata": {
        "id": "7fTglh69jb5p",
        "colab_type": "code",
        "colab": {}
      },
      "source": [
        "# nearest_distance_feature4_matrix_ = np.array(nearest_distance_feature4_matrix)\n",
        "# print(nearest_distance_feature4_matrix_)\n",
        "# np.savetxt(\"applied/otto/feature4_for_test.csv\",  nearest_distance_feature4_matrix_[:,:,0].T, delimiter=\",\")"
      ],
      "execution_count": 0,
      "outputs": []
    },
    {
      "cell_type": "code",
      "metadata": {
        "id": "D14TJOdZVGoA",
        "colab_type": "code",
        "outputId": "52364dcf-3a0d-43a7-9c84-407f32bc83e6",
        "colab": {
          "base_uri": "https://localhost:8080/",
          "height": 34
        }
      },
      "source": [
        "nearest_distance_feature4_matrix_ = np.array(nearest_distance_feature4_matrix)\n",
        "print(nearest_distance_feature4_matrix_.shape)\n",
        "feature4 = []\n",
        "feature4 = nearest_distance_feature4_matrix_[:,:,0]\n",
        "for i in range(9):\n",
        "    feature4[i, class_row[i]:class_row[i+1]] = nearest_distance_feature4_matrix_[i, class_row[i]:class_row[i+1],1]"
      ],
      "execution_count": 0,
      "outputs": [
        {
          "output_type": "stream",
          "text": [
            "(9, 61878, 2)\n"
          ],
          "name": "stdout"
        }
      ]
    },
    {
      "cell_type": "code",
      "metadata": {
        "id": "wDI1-l0OkEO6",
        "colab_type": "code",
        "colab": {}
      },
      "source": [
        "np.savetxt(\"applied/otto/feature4.csv\",  np.array(feature4).T , delimiter=\",\")"
      ],
      "execution_count": 0,
      "outputs": []
    },
    {
      "cell_type": "markdown",
      "metadata": {
        "id": "EcZBVvk3VHCe",
        "colab_type": "text"
      },
      "source": [
        "# X submission feature 4"
      ]
    },
    {
      "cell_type": "code",
      "metadata": {
        "id": "S_DXoqeCiVxq",
        "colab_type": "code",
        "colab": {}
      },
      "source": [
        "X, y, X_submission = process_data(train_df, test_df, transform='None')\n",
        "transformer = TfidfTransformer(smooth_idf=False)\n",
        "tfidf_submission = transformer.fit_transform(X_submission)\n",
        "feature4_X_submission = tfidf_submission.toarray()"
      ],
      "execution_count": 0,
      "outputs": []
    },
    {
      "cell_type": "code",
      "metadata": {
        "id": "2rjvy8gFoftk",
        "colab_type": "code",
        "outputId": "6b4a320a-f7fe-4304-e6d0-9b4e2e674db3",
        "colab": {
          "base_uri": "https://localhost:8080/",
          "height": 168
        }
      },
      "source": [
        "nearest_distance_feature4_matrix_X_submission = []\n",
        "nearest_id_feature4_matrix_X_submission = []\n",
        "for i in range(9):\n",
        "    print(i)\n",
        "    neigh_feature4_X_submission = NearestNeighbors(n_neighbors=2, algorithm='kd_tree', radius=1000.0)\n",
        "    neigh_feature4_X_submission.fit(feature4_class_matrix[i])\n",
        "    nearest_distance_feature4_X_submission,  nearest_id_feature4_X_submission = neigh_feature4_X_submission.kneighbors(feature4_X_submission, return_distance=True)\n",
        "    nearest_distance_feature4_matrix_X_submission.append(nearest_distance_feature4_X_submission)\n",
        "    nearest_id_feature4_matrix_X_submission.append(nearest_id_feature4_X_submission)"
      ],
      "execution_count": 0,
      "outputs": [
        {
          "output_type": "stream",
          "text": [
            "0\n",
            "1\n",
            "2\n",
            "3\n",
            "4\n",
            "5\n",
            "6\n",
            "7\n",
            "8\n"
          ],
          "name": "stdout"
        }
      ]
    },
    {
      "cell_type": "code",
      "metadata": {
        "id": "a5je0dPUof6r",
        "colab_type": "code",
        "outputId": "0b484cd5-1c68-4b03-c176-d4b43e3d916d",
        "colab": {
          "base_uri": "https://localhost:8080/",
          "height": 34
        }
      },
      "source": [
        "print(np.array(nearest_distance_feature4_matrix_X_submission)[:,:,0].shape)"
      ],
      "execution_count": 0,
      "outputs": [
        {
          "output_type": "stream",
          "text": [
            "(9, 144368)\n"
          ],
          "name": "stdout"
        }
      ]
    },
    {
      "cell_type": "code",
      "metadata": {
        "id": "EVzGTfLN859g",
        "colab_type": "code",
        "colab": {}
      },
      "source": [
        "np.savetxt(\"applied/otto/feature4_X_submission.csv\",  np.array(nearest_distance_feature4_matrix_X_submission)[:,:,0].T , delimiter=\",\")"
      ],
      "execution_count": 0,
      "outputs": []
    },
    {
      "cell_type": "markdown",
      "metadata": {
        "id": "BFJXuT8kotZ2",
        "colab_type": "text"
      },
      "source": [
        "## Feature 5 X"
      ]
    },
    {
      "cell_type": "code",
      "metadata": {
        "id": "cLrGofh2o8ud",
        "colab_type": "code",
        "outputId": "accbb245-6d8f-49eb-b54f-dddf6d409d0e",
        "colab": {
          "base_uri": "https://localhost:8080/",
          "height": 34
        }
      },
      "source": [
        "X, y, X_submission = process_data(train_df, test_df, transform='None')\n",
        "X_stack = np.concatenate([X , X_submission], axis = 0)\n",
        "print(X_stack.shape)"
      ],
      "execution_count": 0,
      "outputs": [
        {
          "output_type": "stream",
          "text": [
            "(206246, 93)\n"
          ],
          "name": "stdout"
        }
      ]
    },
    {
      "cell_type": "code",
      "metadata": {
        "id": "TfE1gchgFK_s",
        "colab_type": "code",
        "colab": {}
      },
      "source": [
        "X_embedded = TSNE(n_components=3).fit_transform(X_stack)"
      ],
      "execution_count": 0,
      "outputs": []
    },
    {
      "cell_type": "code",
      "metadata": {
        "id": "zItN-JzL8wmj",
        "colab_type": "code",
        "outputId": "27aad2ce-ad6c-4519-f564-67a6ffabb873",
        "colab": {
          "base_uri": "https://localhost:8080/",
          "height": 84
        }
      },
      "source": [
        "# np.savetxt(\"applied/otto/X_embedded.csv\", X_embedded , delimiter=\",\")\n",
        "print(X_embedded.shape)\n",
        "print(len(X))\n",
        "X_embedded_X = X_embedded[:len(X),:]\n",
        "X_embedded_X_submission = X_embedded[len(X):,:]\n",
        "print(X_embedded_X.shape)\n",
        "print(X_embedded_X_submission.shape)"
      ],
      "execution_count": 0,
      "outputs": [
        {
          "output_type": "stream",
          "text": [
            "(206246, 3)\n",
            "61878\n",
            "(61878, 3)\n",
            "(144368, 3)\n"
          ],
          "name": "stdout"
        }
      ]
    },
    {
      "cell_type": "code",
      "metadata": {
        "id": "LJm8Zir-9P1h",
        "colab_type": "code",
        "outputId": "27481ae7-68be-4590-9acd-1c62d24d3dff",
        "colab": {
          "base_uri": "https://localhost:8080/",
          "height": 34
        }
      },
      "source": [
        "feature5_class_matrix = []\n",
        "for i in range(9):\n",
        "    feature5_class_matrix.append( X_embedded_X[ class_row[i]:class_row[i+1], :])\n",
        "print(np.array(feature5_class_matrix)[-1].shape) "
      ],
      "execution_count": 0,
      "outputs": [
        {
          "output_type": "stream",
          "text": [
            "(4955, 3)\n"
          ],
          "name": "stdout"
        }
      ]
    },
    {
      "cell_type": "code",
      "metadata": {
        "id": "xQP35ZpCYeDj",
        "colab_type": "code",
        "colab": {}
      },
      "source": [
        "# feature5 = np.concatenate([X_embedded, kmeans.labels_.reshape(-1, 1)], axis = 1)\n",
        "# neigh_feature5 = NearestNeighbors(n_neighbors=2, algorithm='kd_tree', radius=1000.0)\n",
        "# neigh_feature5.fit(X_embedded)\n",
        "# nearest_distance_feature5, nearest_id_feature5 = neigh_feature5.kneighbors(X_embedded, return_distance=True)"
      ],
      "execution_count": 0,
      "outputs": []
    },
    {
      "cell_type": "code",
      "metadata": {
        "id": "q01rOeBn8K-v",
        "colab_type": "code",
        "outputId": "aa2353f0-a47f-40ec-c92b-41e21d1c1efe",
        "colab": {
          "base_uri": "https://localhost:8080/",
          "height": 168
        }
      },
      "source": [
        "nearest_distance_feature5_matrix_X = []\n",
        "nearest_id_feature5_matrix_X = []\n",
        "for i in range(9):\n",
        "    print(i)\n",
        "    neigh_feature5_X= NearestNeighbors(n_neighbors=2, algorithm='kd_tree', radius=1000.0)\n",
        "    neigh_feature5_X.fit(feature5_class_matrix[i])\n",
        "    nearest_distance_feature5_X,  nearest_id_feature5_X = neigh_feature5_X.kneighbors(X_embedded_X, return_distance=True)\n",
        "    nearest_distance_feature5_matrix_X.append(nearest_distance_feature5_X)\n",
        "    nearest_id_feature5_matrix_X.append(nearest_id_feature5_X)"
      ],
      "execution_count": 0,
      "outputs": [
        {
          "output_type": "stream",
          "text": [
            "0\n",
            "1\n",
            "2\n",
            "3\n",
            "4\n",
            "5\n",
            "6\n",
            "7\n",
            "8\n"
          ],
          "name": "stdout"
        }
      ]
    },
    {
      "cell_type": "code",
      "metadata": {
        "id": "E-PNSAoR_9pR",
        "colab_type": "code",
        "outputId": "470d2a50-05b9-42e5-9838-596ebbbf2d25",
        "colab": {
          "base_uri": "https://localhost:8080/",
          "height": 34
        }
      },
      "source": [
        "nearest_distance_feature5_matrix_X_ = np.array(nearest_distance_feature5_matrix_X)\n",
        "print(nearest_distance_feature5_matrix_X_.shape)\n",
        "feature5 = []\n",
        "feature5 = nearest_distance_feature5_matrix_X_[:,:,0]\n",
        "for i in range(9):\n",
        "    feature5[i, class_row[i]:class_row[i+1]] = nearest_distance_feature5_matrix_X_[i, class_row[i]:class_row[i+1],1]"
      ],
      "execution_count": 0,
      "outputs": [
        {
          "output_type": "stream",
          "text": [
            "(9, 61878, 2)\n"
          ],
          "name": "stdout"
        }
      ]
    },
    {
      "cell_type": "code",
      "metadata": {
        "id": "MBOrdTcf_tOv",
        "colab_type": "code",
        "outputId": "0b94530d-2fa5-4e0d-fab3-477b5bbbe548",
        "colab": {
          "base_uri": "https://localhost:8080/",
          "height": 34
        }
      },
      "source": [
        "print(feature5.shape )"
      ],
      "execution_count": 0,
      "outputs": [
        {
          "output_type": "stream",
          "text": [
            "(9, 61878)\n"
          ],
          "name": "stdout"
        }
      ]
    },
    {
      "cell_type": "code",
      "metadata": {
        "id": "5P4bOALNY2wa",
        "colab_type": "code",
        "colab": {}
      },
      "source": [
        "np.savetxt(\"applied/otto/feature5.csv\", feature5.T , delimiter=\",\")"
      ],
      "execution_count": 0,
      "outputs": []
    },
    {
      "cell_type": "markdown",
      "metadata": {
        "id": "Dc5VenKL_HNP",
        "colab_type": "text"
      },
      "source": [
        "# feature 5 X submission"
      ]
    },
    {
      "cell_type": "code",
      "metadata": {
        "id": "gF08Apb8_GJZ",
        "colab_type": "code",
        "outputId": "d99c1bcd-a7b1-4ec5-abd3-0a8799a6fe7b",
        "colab": {
          "base_uri": "https://localhost:8080/",
          "height": 168
        }
      },
      "source": [
        "nearest_distance_feature5_matrix_X_submission = []\n",
        "nearest_id_feature5_matrix_X_submission = []\n",
        "for i in range(9):\n",
        "    print(i)\n",
        "    neigh_feature5_X_submission = NearestNeighbors(n_neighbors=2, algorithm='kd_tree', radius=1000.0)\n",
        "    neigh_feature5_X_submission.fit(feature5_class_matrix[i])\n",
        "    nearest_distance_feature5_X_submission,  nearest_id_feature5_X_submission = neigh_feature5_X_submission.kneighbors(X_embedded_X_submission, return_distance=True)\n",
        "    nearest_distance_feature5_matrix_X_submission.append(nearest_distance_feature5_X_submission)\n",
        "    nearest_id_feature5_matrix_X_submission.append(nearest_id_feature5_X_submission)"
      ],
      "execution_count": 0,
      "outputs": [
        {
          "output_type": "stream",
          "text": [
            "0\n",
            "1\n",
            "2\n",
            "3\n",
            "4\n",
            "5\n",
            "6\n",
            "7\n",
            "8\n"
          ],
          "name": "stdout"
        }
      ]
    },
    {
      "cell_type": "code",
      "metadata": {
        "id": "1PPuomUKApmW",
        "colab_type": "code",
        "outputId": "4c5df0cd-f53f-48c7-95c5-1b434c75d7fa",
        "colab": {
          "base_uri": "https://localhost:8080/",
          "height": 34
        }
      },
      "source": [
        "feature5_X_submission = np.array(nearest_distance_feature5_matrix_X_submission)[:,:,0]\n",
        "print(feature5_X_submission.shape)"
      ],
      "execution_count": 0,
      "outputs": [
        {
          "output_type": "stream",
          "text": [
            "(9, 144368)\n"
          ],
          "name": "stdout"
        }
      ]
    },
    {
      "cell_type": "code",
      "metadata": {
        "id": "SuRBeenMAZsz",
        "colab_type": "code",
        "colab": {}
      },
      "source": [
        "np.savetxt(\"applied/otto/feature5_X_submission.csv\", feature5_X_submission.T , delimiter=\",\")"
      ],
      "execution_count": 0,
      "outputs": []
    },
    {
      "cell_type": "code",
      "metadata": {
        "id": "HYULM4ha_GOU",
        "colab_type": "code",
        "colab": {}
      },
      "source": [
        ""
      ],
      "execution_count": 0,
      "outputs": []
    },
    {
      "cell_type": "markdown",
      "metadata": {
        "id": "wDnis11K4aRo",
        "colab_type": "text"
      },
      "source": [
        "# feature 6"
      ]
    },
    {
      "cell_type": "code",
      "metadata": {
        "id": "XfVfBrGV4ZkH",
        "colab_type": "code",
        "outputId": "5c84791e-422d-4f09-bdfe-d7f3a3eafedd",
        "colab": {
          "base_uri": "https://localhost:8080/",
          "height": 34
        }
      },
      "source": [
        "X, y, X_submission = process_data(train_df, test_df, transform='None')\n",
        "X_stack = np.concatenate([X , X_submission], axis = 0)\n",
        "print(X_stack.shape)"
      ],
      "execution_count": 0,
      "outputs": [
        {
          "output_type": "stream",
          "text": [
            "(206246, 93)\n"
          ],
          "name": "stdout"
        }
      ]
    },
    {
      "cell_type": "code",
      "metadata": {
        "id": "5Inbg8Gu99cg",
        "colab_type": "code",
        "colab": {}
      },
      "source": [
        "kmeans2 = KMeans(n_clusters=2, random_state=42).fit(X_stack)\n",
        "kmeans3 = KMeans(n_clusters=3, random_state=42).fit(X_stack)\n",
        "kmeans4 = KMeans(n_clusters=4, random_state=42).fit(X_stack)\n",
        "kmeans5 = KMeans(n_clusters=5, random_state=42).fit(X_stack)\n",
        "kmeans6 = KMeans(n_clusters=6, random_state=42).fit(X_stack)\n",
        "kmeans7 = KMeans(n_clusters=7, random_state=42).fit(X_stack)\n",
        "kmeans8 = KMeans(n_clusters=8, random_state=42).fit(X_stack)\n",
        "kmeans9 = KMeans(n_clusters=9, random_state=42).fit(X_stack)\n",
        "kmeans10 = KMeans(n_clusters=10, random_state=42).fit(X_stack)"
      ],
      "execution_count": 0,
      "outputs": []
    },
    {
      "cell_type": "code",
      "metadata": {
        "id": "72ARtxwWNGoO",
        "colab_type": "code",
        "outputId": "3b47a56e-a40b-4212-c505-0e932ce30e80",
        "colab": {
          "base_uri": "https://localhost:8080/",
          "height": 84
        }
      },
      "source": [
        "feature6_stack = [kmeans2.labels_,\n",
        "                  kmeans3.labels_,\n",
        "                  kmeans4.labels_,\n",
        "                  kmeans5.labels_,\n",
        "                  kmeans6.labels_,\n",
        "                  kmeans7.labels_,\n",
        "                  kmeans8.labels_,\n",
        "                  kmeans9.labels_,\n",
        "                  kmeans10.labels_,]\n",
        "print(np.array(feature6_stack).shape)\n",
        "print(kmeans2.labels_.shape)\n",
        "feature6_X = np.array(feature6_stack)[:,:len(X)].T\n",
        "feature6_X_submission = np.array(feature6_stack)[:,len(X):].T\n",
        "# print(feature6_X.shape)\n",
        "# print(feature6_X_submission.shape)"
      ],
      "execution_count": 0,
      "outputs": [
        {
          "output_type": "stream",
          "text": [
            "(9, 206246)\n",
            "(206246,)\n",
            "(61878, 9)\n",
            "(144368, 9)\n"
          ],
          "name": "stdout"
        }
      ]
    },
    {
      "cell_type": "code",
      "metadata": {
        "id": "X3tTN44k4dvO",
        "colab_type": "code",
        "colab": {}
      },
      "source": [
        "np.savetxt(\"applied/otto/feature6_X.csv\",  feature6_X , delimiter=\",\")\n",
        "np.savetxt(\"applied/otto/feature6_X_submission.csv\",  feature6_X_submission , delimiter=\",\")"
      ],
      "execution_count": 0,
      "outputs": []
    },
    {
      "cell_type": "markdown",
      "metadata": {
        "id": "D9DGiaqlZqec",
        "colab_type": "text"
      },
      "source": [
        "## feature 7"
      ]
    },
    {
      "cell_type": "code",
      "metadata": {
        "id": "Kr4GsYsfZrQs",
        "colab_type": "code",
        "outputId": "62ea8e85-5a32-4cc2-9b28-070cd4ad2026",
        "colab": {
          "base_uri": "https://localhost:8080/",
          "height": 33
        }
      },
      "source": [
        "train_df, test_df = load_data(train_data_path='applied/otto/train.csv', test_data_path='applied/otto/test.csv')\n",
        "X, y, X_submission = process_data(train_df, test_df, transform='None')\n",
        "non_zero = np.sum([x==0 for x in X_submission], axis = 1).reshape(-1, 1)\n",
        "print(non_zero.shape)"
      ],
      "execution_count": 0,
      "outputs": [
        {
          "output_type": "stream",
          "text": [
            "(144368, 1)\n"
          ],
          "name": "stdout"
        }
      ]
    },
    {
      "cell_type": "code",
      "metadata": {
        "id": "EUuUHImkZrUd",
        "colab_type": "code",
        "colab": {}
      },
      "source": [
        "np.savetxt(\"applied/otto/feature7_X_submission.csv\",  non_zero , delimiter=\",\")"
      ],
      "execution_count": 0,
      "outputs": []
    },
    {
      "cell_type": "code",
      "metadata": {
        "id": "mbmyo82ihLMQ",
        "colab_type": "code",
        "colab": {}
      },
      "source": [
        ""
      ],
      "execution_count": 0,
      "outputs": []
    }
  ]
}