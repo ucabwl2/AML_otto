{
  "nbformat": 4,
  "nbformat_minor": 0,
  "metadata": {
    "colab": {
      "name": "feature_1234567_X_submission.ipynb",
      "provenance": [],
      "collapsed_sections": []
    },
    "kernelspec": {
      "name": "python3",
      "display_name": "Python 3"
    },
    "accelerator": "TPU"
  },
  "cells": [
    {
      "cell_type": "code",
      "metadata": {
        "id": "r7llfxvohZFe",
        "colab_type": "code",
        "outputId": "3b9245c3-70a5-43a1-a669-61ec268d9b93",
        "colab": {
          "base_uri": "https://localhost:8080/",
          "height": 33
        }
      },
      "source": [
        "import sys\n",
        "import logging\n",
        "import time\n",
        "import numpy as np\n",
        "import pandas as pd\n",
        "import os.path\n",
        "\n",
        "from sklearn.model_selection import StratifiedKFold, GridSearchCV\n",
        "from sklearn.metrics import log_loss\n",
        "from sklearn.preprocessing import StandardScaler\n",
        "from sklearn.decomposition import PCA\n",
        "from sklearn.manifold import TSNE\n",
        "from sklearn.linear_model import LogisticRegression\n",
        "from sklearn.ensemble import RandomForestClassifier, ExtraTreesClassifier\n",
        "from sklearn.neighbors import KNeighborsClassifier\n",
        "from sklearn.neighbors import NearestNeighbors\n",
        "from sklearn.ensemble import BaggingClassifier\n",
        "from sklearn.naive_bayes import MultinomialNB\n",
        "from sklearn.manifold import TSNE\n",
        "from sklearn.cluster import KMeans\n",
        "from sklearn.feature_extraction.text import TfidfTransformer\n",
        "\n",
        "from xgboost import XGBClassifier\n",
        "\n",
        "from keras.models import Sequential\n",
        "from keras.layers import Dense, Dropout\n",
        "from keras.wrappers.scikit_learn import KerasClassifier\n",
        "from keras.regularizers import l1_l2\n",
        "import pickle"
      ],
      "execution_count": 0,
      "outputs": [
        {
          "output_type": "stream",
          "text": [
            "Using TensorFlow backend.\n"
          ],
          "name": "stderr"
        }
      ]
    },
    {
      "cell_type": "code",
      "metadata": {
        "id": "SOs82zRuvS-D",
        "colab_type": "code",
        "colab": {}
      },
      "source": [
        "def load_data(train_data_path='data/train.csv', test_data_path = 'data/test.csv'):\n",
        "    train_df = pd.read_csv(train_data_path, sep=',', index_col=0, header=0)\n",
        "    test_df = pd.read_csv(test_data_path, sep=',', index_col=0, header=0)\n",
        "    \n",
        "    train_df['target'] = train_df['target'].str[-1].astype(int) - 1\n",
        "        \n",
        "    return train_df, test_df"
      ],
      "execution_count": 0,
      "outputs": []
    },
    {
      "cell_type": "code",
      "metadata": {
        "id": "YwPcR5glN_RI",
        "colab_type": "code",
        "colab": {}
      },
      "source": [
        "def process_data(train_df, test_df, ylabel='target', standarization=False, discretization=False, transform=None):\n",
        "    numerical_features = train_df.columns\n",
        "\n",
        "    if standarization:\n",
        "        standarized_features = numerical_features\n",
        "        standarize_feature(train_df, test_df, standarized_features)\n",
        "        \n",
        "    if discretization:\n",
        "        discretized_features = numerical_features\n",
        "        discretize_feature(train_df, test_df, discretized_features, num_bins=10, how='equal_freq')\n",
        "    \n",
        "    X = train_df.drop(ylabel, axis=1).values\n",
        "    y = train_df[ylabel].values\n",
        "    X_submission = test_df.values\n",
        "    \n",
        "    if transform == 'log':\n",
        "        X = np.log1p(X)\n",
        "        X_submission = np.log1p(X_submission)\n",
        "    elif transform == 'sqrt':\n",
        "        X = np.sqrt(X + 3.0 / 8)\n",
        "        X_submission = np.sqrt(X_submission + 3.0 / 8)\n",
        "    elif transform == 'pca':\n",
        "        pca = PCA(n_components=3).fit(X)\n",
        "        X = pca.transform(X)\n",
        "        X_submission = pca.transform(X_submission)\n",
        "    elif transform == 'tsne':\n",
        "        tsne = TSNE(n_components=3).fit(X)\n",
        "        X = tsne.transform(X)\n",
        "        X_submission = tsne.transform(X_submission)\n",
        "    elif transform == 'pca+':\n",
        "        pca = PCA(n_components=3).fit(X)\n",
        "        X = np.hstack((X, pca.transform(X)))\n",
        "        X_submission = np.hstack((X, pca.transform(X)))\n",
        "    elif transform == 'tsne+':\n",
        "        tsne = TSNE(n_components=3).fit(X)\n",
        "        X = np.hstack((X, tsne.transform(X)))\n",
        "        X_submission = np.hstack((X_submission, tsne.transform(X_submission)))        \n",
        "    return X, y, X_submission"
      ],
      "execution_count": 0,
      "outputs": []
    },
    {
      "cell_type": "code",
      "metadata": {
        "id": "1dNMM5Bjve3M",
        "colab_type": "code",
        "outputId": "ee410621-58dd-4fd4-a417-74da11b0046d",
        "colab": {
          "base_uri": "https://localhost:8080/",
          "height": 50
        }
      },
      "source": [
        "\n",
        "start_time = time.time()\n",
        "\n",
        "logging.basicConfig(level=logging.DEBUG,\n",
        "                    format='[%(asctime)s]: %(message)s ',\n",
        "                    datefmt='%Y-%m-%d %H:%M:%S',\n",
        "                    stream=sys.stdout,\n",
        "                    filemode=\"w\"\n",
        "                    )\n",
        "# load data\n",
        "logging.info('Load data')\n",
        "train_df, test_df = load_data(train_data_path='applied/otto/train.csv', test_data_path='applied/otto/test.csv')"
      ],
      "execution_count": 0,
      "outputs": [
        {
          "output_type": "stream",
          "text": [
            "[2020-03-09 01:51:28]: Load data \n",
            "[2020-03-09 01:51:29]: NumExpr defaulting to 8 threads. \n"
          ],
          "name": "stdout"
        }
      ]
    },
    {
      "cell_type": "markdown",
      "metadata": {
        "id": "KkUHXnVNo3sV",
        "colab_type": "text"
      },
      "source": [
        "# Feature 1,2,3"
      ]
    },
    {
      "cell_type": "code",
      "metadata": {
        "id": "kWHorwTDEygi",
        "colab_type": "code",
        "outputId": "0eeb7022-bd40-4266-9909-d58d80b346c6",
        "colab": {
          "base_uri": "https://localhost:8080/",
          "height": 67
        }
      },
      "source": [
        "neigh4 = NearestNeighbors(n_neighbors=5, algorithm='kd_tree', radius=1000.0)\n",
        "neigh4.fit(X_submission)"
      ],
      "execution_count": 0,
      "outputs": [
        {
          "output_type": "execute_result",
          "data": {
            "text/plain": [
              "NearestNeighbors(algorithm='kd_tree', leaf_size=30, metric='minkowski',\n",
              "                 metric_params=None, n_jobs=None, n_neighbors=5, p=2,\n",
              "                 radius=1000.0)"
            ]
          },
          "metadata": {
            "tags": []
          },
          "execution_count": 14
        }
      ]
    },
    {
      "cell_type": "code",
      "metadata": {
        "id": "OPMzBdXMEsYy",
        "colab_type": "code",
        "colab": {}
      },
      "source": [
        "nearest_distance4, nearest_id4 = neigh4.kneighbors(X_submission, return_distance=True)"
      ],
      "execution_count": 0,
      "outputs": []
    },
    {
      "cell_type": "code",
      "metadata": {
        "id": "RHeVfMarGp6J",
        "colab_type": "code",
        "outputId": "5ed5ca1d-4953-4a90-dfd9-c0a6c61b6568",
        "colab": {
          "base_uri": "https://localhost:8080/",
          "height": 33
        }
      },
      "source": [
        "print(nearest_distance4[:,:3].shape)"
      ],
      "execution_count": 0,
      "outputs": [
        {
          "output_type": "stream",
          "text": [
            "(144368, 3)\n"
          ],
          "name": "stdout"
        }
      ]
    },
    {
      "cell_type": "markdown",
      "metadata": {
        "id": "t0QGoJ_gz4mt",
        "colab_type": "text"
      },
      "source": [
        ""
      ]
    },
    {
      "cell_type": "code",
      "metadata": {
        "id": "DZASULt7j-TY",
        "colab_type": "code",
        "colab": {}
      },
      "source": [
        "np.savetxt(\"applied/otto/feature1_X_submission.csv\",  np.sum(nearest_distance4[:,:2],axis = 1).reshape(-1,1) , delimiter=\",\")\n",
        "np.savetxt(\"applied/otto/feature2_X_submission.csv\",  np.sum(nearest_distance4[:,:3],axis = 1).reshape(-1,1) , delimiter=\",\")\n",
        "np.savetxt(\"applied/otto/feature3_X_submission.csv\",  np.sum(nearest_distance4,axis = 1).reshape(-1,1) , delimiter=\",\")"
      ],
      "execution_count": 0,
      "outputs": []
    },
    {
      "cell_type": "markdown",
      "metadata": {
        "id": "pnE6jU8eofVP",
        "colab_type": "text"
      },
      "source": [
        "## feature 4"
      ]
    },
    {
      "cell_type": "code",
      "metadata": {
        "id": "2rjvy8gFoftk",
        "colab_type": "code",
        "colab": {}
      },
      "source": [
        "X, y, X_submission = process_data(train_df, test_df, transform='None')\n",
        "transformer = TfidfTransformer(smooth_idf=False)\n",
        "tfidf = transformer.fit_transform(X_submission)"
      ],
      "execution_count": 0,
      "outputs": []
    },
    {
      "cell_type": "code",
      "metadata": {
        "id": "a5je0dPUof6r",
        "colab_type": "code",
        "colab": {}
      },
      "source": [
        "feature4 = tfidf.toarray()\n",
        "neigh_feature4 = NearestNeighbors(n_neighbors=2, algorithm='kd_tree', radius=1000.0)\n",
        "neigh_feature4.fit(feature4)\n",
        "nearest_distance_feature4,  nearest_id_feature4 = neigh_feature4.kneighbors(feature4, return_distance=True)"
      ],
      "execution_count": 0,
      "outputs": []
    },
    {
      "cell_type": "code",
      "metadata": {
        "id": "EVzGTfLN859g",
        "colab_type": "code",
        "colab": {}
      },
      "source": [
        "np.savetxt(\"applied/otto/feature4_X_submission.csv\",  np.sum(nearest_distance_feature4,axis = 1).reshape(-1,1) , delimiter=\",\")"
      ],
      "execution_count": 0,
      "outputs": []
    },
    {
      "cell_type": "markdown",
      "metadata": {
        "id": "BFJXuT8kotZ2",
        "colab_type": "text"
      },
      "source": [
        "## Feature 5"
      ]
    },
    {
      "cell_type": "code",
      "metadata": {
        "id": "cLrGofh2o8ud",
        "colab_type": "code",
        "colab": {}
      },
      "source": [
        "X, y, X_submission = process_data(train_df, test_df, transform='None')\n",
        "X_embedded = TSNE(n_components=3).fit_transform(X_submission)"
      ],
      "execution_count": 0,
      "outputs": []
    },
    {
      "cell_type": "code",
      "metadata": {
        "id": "TfE1gchgFK_s",
        "colab_type": "code",
        "colab": {}
      },
      "source": [
        "# kmeans = KMeans(n_clusters=2, random_state=42).fit(X_embedded )"
      ],
      "execution_count": 0,
      "outputs": []
    },
    {
      "cell_type": "code",
      "metadata": {
        "id": "xQP35ZpCYeDj",
        "colab_type": "code",
        "colab": {}
      },
      "source": [
        "# feature5 = np.concatenate([X_embedded, kmeans.labels_.reshape(-1, 1)], axis = 1)\n",
        "neigh_feature5 = NearestNeighbors(n_neighbors=2, algorithm='kd_tree', radius=1000.0)\n",
        "neigh_feature5.fit(X_embedded)\n",
        "nearest_distance_feature5, nearest_id_feature5 = neigh_feature5.kneighbors(X_embedded, return_distance=True)"
      ],
      "execution_count": 0,
      "outputs": []
    },
    {
      "cell_type": "code",
      "metadata": {
        "id": "5P4bOALNY2wa",
        "colab_type": "code",
        "colab": {}
      },
      "source": [
        "np.savetxt(\"applied/otto/feature5_X_submission.csv\",  np.sum(nearest_distance_feature5,axis = 1).reshape(-1,1) , delimiter=\",\")"
      ],
      "execution_count": 0,
      "outputs": []
    },
    {
      "cell_type": "markdown",
      "metadata": {
        "id": "wDnis11K4aRo",
        "colab_type": "text"
      },
      "source": [
        "# feature 6"
      ]
    },
    {
      "cell_type": "code",
      "metadata": {
        "id": "XfVfBrGV4ZkH",
        "colab_type": "code",
        "colab": {}
      },
      "source": [
        "X, y, X_submission = process_data(train_df, test_df, transform='None')\n",
        "kmeans = KMeans(n_clusters=9, random_state=42).fit(X_submission)"
      ],
      "execution_count": 0,
      "outputs": []
    },
    {
      "cell_type": "code",
      "metadata": {
        "id": "X3tTN44k4dvO",
        "colab_type": "code",
        "colab": {}
      },
      "source": [
        "np.savetxt(\"applied/otto/feature6_X_submission.csv\",  kmeans.labels_.reshape(-1, 1) , delimiter=\",\")"
      ],
      "execution_count": 0,
      "outputs": []
    },
    {
      "cell_type": "markdown",
      "metadata": {
        "id": "D9DGiaqlZqec",
        "colab_type": "text"
      },
      "source": [
        "## feature 7"
      ]
    },
    {
      "cell_type": "code",
      "metadata": {
        "id": "Kr4GsYsfZrQs",
        "colab_type": "code",
        "outputId": "62ea8e85-5a32-4cc2-9b28-070cd4ad2026",
        "colab": {
          "base_uri": "https://localhost:8080/",
          "height": 33
        }
      },
      "source": [
        "train_df, test_df = load_data(train_data_path='applied/otto/train.csv', test_data_path='applied/otto/test.csv')\n",
        "X, y, X_submission = process_data(train_df, test_df, transform='None')\n",
        "non_zero = np.sum([x==0 for x in X_submission], axis = 1).reshape(-1, 1)\n",
        "print(non_zero.shape)"
      ],
      "execution_count": 0,
      "outputs": [
        {
          "output_type": "stream",
          "text": [
            "(144368, 1)\n"
          ],
          "name": "stdout"
        }
      ]
    },
    {
      "cell_type": "code",
      "metadata": {
        "id": "EUuUHImkZrUd",
        "colab_type": "code",
        "colab": {}
      },
      "source": [
        "np.savetxt(\"applied/otto/feature7_X_submission.csv\",  non_zero , delimiter=\",\")"
      ],
      "execution_count": 0,
      "outputs": []
    },
    {
      "cell_type": "code",
      "metadata": {
        "id": "mbmyo82ihLMQ",
        "colab_type": "code",
        "colab": {}
      },
      "source": [
        ""
      ],
      "execution_count": 0,
      "outputs": []
    }
  ]
}