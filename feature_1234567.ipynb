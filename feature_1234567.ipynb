{
  "nbformat": 4,
  "nbformat_minor": 0,
  "metadata": {
    "colab": {
      "name": "feature_1234567.ipynb",
      "provenance": [],
      "collapsed_sections": []
    },
    "kernelspec": {
      "name": "python3",
      "display_name": "Python 3"
    },
    "accelerator": "TPU"
  },
  "cells": [
    {
      "cell_type": "code",
      "metadata": {
        "id": "r7llfxvohZFe",
        "colab_type": "code",
        "outputId": "676449ac-2eab-4334-fad6-c5e77901fe92",
        "colab": {
          "base_uri": "https://localhost:8080/",
          "height": 33
        }
      },
      "source": [
        "import sys\n",
        "import logging\n",
        "import time\n",
        "import numpy as np\n",
        "import pandas as pd\n",
        "import os.path\n",
        "\n",
        "from sklearn.model_selection import StratifiedKFold, GridSearchCV\n",
        "from sklearn.metrics import log_loss\n",
        "from sklearn.preprocessing import StandardScaler\n",
        "from sklearn.decomposition import PCA\n",
        "from sklearn.manifold import TSNE\n",
        "from sklearn.linear_model import LogisticRegression\n",
        "from sklearn.ensemble import RandomForestClassifier, ExtraTreesClassifier\n",
        "from sklearn.neighbors import KNeighborsClassifier\n",
        "from sklearn.neighbors import NearestNeighbors\n",
        "from sklearn.ensemble import BaggingClassifier\n",
        "from sklearn.naive_bayes import MultinomialNB\n",
        "from sklearn.manifold import TSNE\n",
        "from sklearn.cluster import KMeans\n",
        "from sklearn.feature_extraction.text import TfidfTransformer\n",
        "\n",
        "from xgboost import XGBClassifier\n",
        "\n",
        "from keras.models import Sequential\n",
        "from keras.layers import Dense, Dropout\n",
        "from keras.wrappers.scikit_learn import KerasClassifier\n",
        "from keras.regularizers import l1_l2\n",
        "import pickle"
      ],
      "execution_count": 1,
      "outputs": [
        {
          "output_type": "stream",
          "text": [
            "Using TensorFlow backend.\n"
          ],
          "name": "stderr"
        }
      ]
    },
    {
      "cell_type": "code",
      "metadata": {
        "id": "SOs82zRuvS-D",
        "colab_type": "code",
        "colab": {}
      },
      "source": [
        "def load_data(train_data_path='data/train.csv', test_data_path = 'data/test.csv'):\n",
        "    train_df = pd.read_csv(train_data_path, sep=',', index_col=0, header=0)\n",
        "    test_df = pd.read_csv(test_data_path, sep=',', index_col=0, header=0)\n",
        "    \n",
        "    train_df['target'] = train_df['target'].str[-1].astype(int) - 1\n",
        "        \n",
        "    return train_df, test_df"
      ],
      "execution_count": 0,
      "outputs": []
    },
    {
      "cell_type": "code",
      "metadata": {
        "id": "YwPcR5glN_RI",
        "colab_type": "code",
        "colab": {}
      },
      "source": [
        "def process_data(train_df, test_df, ylabel='target', standarization=False, discretization=False, transform=None):\n",
        "    numerical_features = train_df.columns\n",
        "\n",
        "    if standarization:\n",
        "        standarized_features = numerical_features\n",
        "        standarize_feature(train_df, test_df, standarized_features)\n",
        "        \n",
        "    if discretization:\n",
        "        discretized_features = numerical_features\n",
        "        discretize_feature(train_df, test_df, discretized_features, num_bins=10, how='equal_freq')\n",
        "    \n",
        "    X = train_df.drop(ylabel, axis=1).values\n",
        "    y = train_df[ylabel].values\n",
        "    X_submission = test_df.values\n",
        "    \n",
        "    if transform == 'log':\n",
        "        X = np.log1p(X)\n",
        "        X_submission = np.log1p(X_submission)\n",
        "    elif transform == 'sqrt':\n",
        "        X = np.sqrt(X + 3.0 / 8)\n",
        "        X_submission = np.sqrt(X_submission + 3.0 / 8)\n",
        "    elif transform == 'pca':\n",
        "        pca = PCA(n_components=3).fit(X)\n",
        "        X = pca.transform(X)\n",
        "        X_submission = pca.transform(X_submission)\n",
        "    elif transform == 'tsne':\n",
        "        tsne = TSNE(n_components=3).fit(X)\n",
        "        X = tsne.transform(X)\n",
        "        X_submission = tsne.transform(X_submission)\n",
        "    elif transform == 'pca+':\n",
        "        pca = PCA(n_components=3).fit(X)\n",
        "        X = np.hstack((X, pca.transform(X)))\n",
        "        X_submission = np.hstack((X, pca.transform(X)))\n",
        "    elif transform == 'tsne+':\n",
        "        tsne = TSNE(n_components=3).fit(X)\n",
        "        X = np.hstack((X, tsne.transform(X)))\n",
        "        X_submission = np.hstack((X_submission, tsne.transform(X_submission)))        \n",
        "    return X, y, X_submission"
      ],
      "execution_count": 0,
      "outputs": []
    },
    {
      "cell_type": "code",
      "metadata": {
        "id": "1dNMM5Bjve3M",
        "colab_type": "code",
        "outputId": "cb99030d-615c-4f80-8398-14085a01c391",
        "colab": {
          "base_uri": "https://localhost:8080/",
          "height": 50
        }
      },
      "source": [
        "\n",
        "start_time = time.time()\n",
        "\n",
        "logging.basicConfig(level=logging.DEBUG,\n",
        "                    format='[%(asctime)s]: %(message)s ',\n",
        "                    datefmt='%Y-%m-%d %H:%M:%S',\n",
        "                    stream=sys.stdout,\n",
        "                    filemode=\"w\"\n",
        "                    )\n",
        "# load data\n",
        "logging.info('Load data')\n",
        "train_df, test_df = load_data(train_data_path='applied/otto/train.csv', test_data_path='applied/otto/test.csv')"
      ],
      "execution_count": 4,
      "outputs": [
        {
          "output_type": "stream",
          "text": [
            "[2020-03-04 05:08:31]: Load data \n",
            "[2020-03-04 05:08:32]: NumExpr defaulting to 8 threads. \n"
          ],
          "name": "stdout"
        }
      ]
    },
    {
      "cell_type": "markdown",
      "metadata": {
        "id": "ckFxvabtoyv9",
        "colab_type": "text"
      },
      "source": [
        "# Feature 1"
      ]
    },
    {
      "cell_type": "code",
      "metadata": {
        "id": "VvSzoDMX6Lt_",
        "colab_type": "code",
        "outputId": "ae448a33-8531-4afe-eddd-58fbc1885602",
        "colab": {
          "base_uri": "https://localhost:8080/",
          "height": 67
        }
      },
      "source": [
        "X, y, X_submission = process_data(train_df, test_df, transform='None')\n",
        "neigh = NearestNeighbors(n_neighbors=2, algorithm='kd_tree', radius=1000.0)\n",
        "neigh.fit(X)"
      ],
      "execution_count": 0,
      "outputs": [
        {
          "output_type": "execute_result",
          "data": {
            "text/plain": [
              "NearestNeighbors(algorithm='kd_tree', leaf_size=30, metric='minkowski',\n",
              "                 metric_params=None, n_jobs=None, n_neighbors=2, p=2,\n",
              "                 radius=1000.0)"
            ]
          },
          "metadata": {
            "tags": []
          },
          "execution_count": 29
        }
      ]
    },
    {
      "cell_type": "code",
      "metadata": {
        "id": "Cjvu6Kof6Lxd",
        "colab_type": "code",
        "colab": {}
      },
      "source": [
        "nearest_distance, nearest_id= neigh.kneighbors(X,  return_distance=True)"
      ],
      "execution_count": 0,
      "outputs": []
    },
    {
      "cell_type": "code",
      "metadata": {
        "id": "PnAhFkixFn3F",
        "colab_type": "code",
        "colab": {}
      },
      "source": [
        "np.savetxt(\"applied/otto/feature1.csv\",  np.sum(nearest_distance,axis = 1).reshape(-1,1) , delimiter=\",\")"
      ],
      "execution_count": 0,
      "outputs": []
    },
    {
      "cell_type": "markdown",
      "metadata": {
        "id": "Nn4TOhrRo1Ed",
        "colab_type": "text"
      },
      "source": [
        "# Feature 2"
      ]
    },
    {
      "cell_type": "code",
      "metadata": {
        "id": "8N9T6JQxEfuU",
        "colab_type": "code",
        "outputId": "c88643fb-8158-4d8a-9021-4e49dbf41972",
        "colab": {
          "base_uri": "https://localhost:8080/",
          "height": 67
        }
      },
      "source": [
        "X, y, X_submission = process_data(train_df, test_df, transform='None')\n",
        "neigh2 = NearestNeighbors(n_neighbors=3, algorithm='kd_tree', radius=1000.0)\n",
        "neigh2.fit(X)"
      ],
      "execution_count": 0,
      "outputs": [
        {
          "output_type": "execute_result",
          "data": {
            "text/plain": [
              "NearestNeighbors(algorithm='kd_tree', leaf_size=30, metric='minkowski',\n",
              "                 metric_params=None, n_jobs=None, n_neighbors=3, p=2,\n",
              "                 radius=1000.0)"
            ]
          },
          "metadata": {
            "tags": []
          },
          "execution_count": 32
        }
      ]
    },
    {
      "cell_type": "code",
      "metadata": {
        "id": "f6lnGy0ZEgCQ",
        "colab_type": "code",
        "colab": {}
      },
      "source": [
        "nearest_distance2, nearest_id2 = neigh2.kneighbors(X, return_distance=True)"
      ],
      "execution_count": 0,
      "outputs": []
    },
    {
      "cell_type": "markdown",
      "metadata": {
        "id": "KkUHXnVNo3sV",
        "colab_type": "text"
      },
      "source": [
        "# Feature 3"
      ]
    },
    {
      "cell_type": "code",
      "metadata": {
        "id": "kWHorwTDEygi",
        "colab_type": "code",
        "outputId": "f4a08661-2732-4b16-9dd2-e7c2b47959c4",
        "colab": {
          "base_uri": "https://localhost:8080/",
          "height": 67
        }
      },
      "source": [
        "neigh4 = NearestNeighbors(n_neighbors=5, algorithm='kd_tree', radius=1000.0)\n",
        "neigh4.fit(X)"
      ],
      "execution_count": 0,
      "outputs": [
        {
          "output_type": "execute_result",
          "data": {
            "text/plain": [
              "NearestNeighbors(algorithm='kd_tree', leaf_size=30, metric='minkowski',\n",
              "                 metric_params=None, n_jobs=None, n_neighbors=5, p=2,\n",
              "                 radius=1000.0)"
            ]
          },
          "metadata": {
            "tags": []
          },
          "execution_count": 34
        }
      ]
    },
    {
      "cell_type": "code",
      "metadata": {
        "id": "OPMzBdXMEsYy",
        "colab_type": "code",
        "colab": {}
      },
      "source": [
        "nearest_distance4, nearest_id4 = neigh4.kneighbors(X, return_distance=True)"
      ],
      "execution_count": 0,
      "outputs": []
    },
    {
      "cell_type": "markdown",
      "metadata": {
        "id": "t0QGoJ_gz4mt",
        "colab_type": "text"
      },
      "source": [
        ""
      ]
    },
    {
      "cell_type": "code",
      "metadata": {
        "id": "DZASULt7j-TY",
        "colab_type": "code",
        "colab": {}
      },
      "source": [
        "np.savetxt(\"applied/otto/feature2.csv\",  np.sum(nearest_distance2,axis = 1).reshape(-1,1) , delimiter=\",\")\n",
        "np.savetxt(\"applied/otto/feature3.csv\",  np.sum(nearest_distance4,axis = 1).reshape(-1,1) , delimiter=\",\")"
      ],
      "execution_count": 0,
      "outputs": []
    },
    {
      "cell_type": "markdown",
      "metadata": {
        "id": "pnE6jU8eofVP",
        "colab_type": "text"
      },
      "source": [
        "## feature 4"
      ]
    },
    {
      "cell_type": "code",
      "metadata": {
        "id": "2rjvy8gFoftk",
        "colab_type": "code",
        "colab": {}
      },
      "source": [
        "X, y, X_submission = process_data(train_df, test_df, transform='None')\n",
        "transformer = TfidfTransformer(smooth_idf=False)\n",
        "tfidf = transformer.fit_transform(X)"
      ],
      "execution_count": 0,
      "outputs": []
    },
    {
      "cell_type": "code",
      "metadata": {
        "id": "a5je0dPUof6r",
        "colab_type": "code",
        "colab": {}
      },
      "source": [
        "feature4 = tfidf.toarray()\n",
        "neigh_feature4 = NearestNeighbors(n_neighbors=2, algorithm='kd_tree', radius=1000.0)\n",
        "neigh_feature4.fit(feature4)\n",
        "nearest_distance_feature4,  nearest_id_feature4 = neigh_feature4.kneighbors(feature4, return_distance=True)"
      ],
      "execution_count": 0,
      "outputs": []
    },
    {
      "cell_type": "code",
      "metadata": {
        "id": "EVzGTfLN859g",
        "colab_type": "code",
        "colab": {}
      },
      "source": [
        "np.savetxt(\"applied/otto/feature4.csv\",  nearest_distance_feature4 , delimiter=\",\")"
      ],
      "execution_count": 0,
      "outputs": []
    },
    {
      "cell_type": "markdown",
      "metadata": {
        "id": "BFJXuT8kotZ2",
        "colab_type": "text"
      },
      "source": [
        "## Feature 5"
      ]
    },
    {
      "cell_type": "code",
      "metadata": {
        "id": "cLrGofh2o8ud",
        "colab_type": "code",
        "colab": {}
      },
      "source": [
        "X, y, X_submission = process_data(train_df, test_df, transform='None')\n",
        "X_embedded = TSNE(n_components=3).fit_transform(X)"
      ],
      "execution_count": 0,
      "outputs": []
    },
    {
      "cell_type": "code",
      "metadata": {
        "id": "TfE1gchgFK_s",
        "colab_type": "code",
        "colab": {}
      },
      "source": [
        "# kmeans = KMeans(n_clusters=2, random_state=42).fit(X_embedded )"
      ],
      "execution_count": 0,
      "outputs": []
    },
    {
      "cell_type": "code",
      "metadata": {
        "id": "xQP35ZpCYeDj",
        "colab_type": "code",
        "colab": {}
      },
      "source": [
        "# feature5 = np.concatenate([X_embedded, kmeans.labels_.reshape(-1, 1)], axis = 1)\n",
        "neigh_feature5 = NearestNeighbors(n_neighbors=2, algorithm='kd_tree', radius=1000.0)\n",
        "neigh_feature5.fit(X_embedded)\n",
        "nearest_distance_feature5, nearest_id_feature5 = neigh_feature5.kneighbors(X_embedded, return_distance=True)"
      ],
      "execution_count": 0,
      "outputs": []
    },
    {
      "cell_type": "code",
      "metadata": {
        "id": "5P4bOALNY2wa",
        "colab_type": "code",
        "colab": {}
      },
      "source": [
        "np.savetxt(\"applied/otto/feature5.csv\",  feature5 , delimiter=\",\")"
      ],
      "execution_count": 0,
      "outputs": []
    },
    {
      "cell_type": "markdown",
      "metadata": {
        "id": "wDnis11K4aRo",
        "colab_type": "text"
      },
      "source": [
        "# feature 6"
      ]
    },
    {
      "cell_type": "code",
      "metadata": {
        "id": "XfVfBrGV4ZkH",
        "colab_type": "code",
        "colab": {}
      },
      "source": [
        "X, y, X_submission = process_data(train_df, test_df, transform='None')\n",
        "kmeans = KMeans(n_clusters=9, random_state=42).fit(X)"
      ],
      "execution_count": 0,
      "outputs": []
    },
    {
      "cell_type": "code",
      "metadata": {
        "id": "X3tTN44k4dvO",
        "colab_type": "code",
        "colab": {}
      },
      "source": [
        "np.savetxt(\"applied/otto/feature6.csv\",  kmeans.labels_.reshape(-1, 1) , delimiter=\",\")"
      ],
      "execution_count": 0,
      "outputs": []
    },
    {
      "cell_type": "markdown",
      "metadata": {
        "id": "D9DGiaqlZqec",
        "colab_type": "text"
      },
      "source": [
        "## feature 7"
      ]
    },
    {
      "cell_type": "code",
      "metadata": {
        "id": "Kr4GsYsfZrQs",
        "colab_type": "code",
        "outputId": "ce7bd453-8074-4a3d-c902-df05bf3c97d2",
        "colab": {
          "base_uri": "https://localhost:8080/",
          "height": 33
        }
      },
      "source": [
        "train_df, test_df = load_data(train_data_path='applied/otto/train.csv', test_data_path='applied/otto/test.csv')\n",
        "X, y, X_submission = process_data(train_df, test_df, transform='None')\n",
        "non_zero = np.sum([x==0 for x in X], axis = 1).reshape(-1, 1)\n",
        "print(non_zero.shape)"
      ],
      "execution_count": 0,
      "outputs": [
        {
          "output_type": "stream",
          "text": [
            "(61878, 1)\n"
          ],
          "name": "stdout"
        }
      ]
    },
    {
      "cell_type": "code",
      "metadata": {
        "id": "EUuUHImkZrUd",
        "colab_type": "code",
        "colab": {}
      },
      "source": [
        "np.savetxt(\"applied/otto/feature7.csv\",  non_zero , delimiter=\",\")"
      ],
      "execution_count": 0,
      "outputs": []
    },
    {
      "cell_type": "code",
      "metadata": {
        "id": "mbmyo82ihLMQ",
        "colab_type": "code",
        "colab": {}
      },
      "source": [
        ""
      ],
      "execution_count": 0,
      "outputs": []
    }
  ]
}