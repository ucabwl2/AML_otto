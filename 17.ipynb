{
  "nbformat": 4,
  "nbformat_minor": 0,
  "metadata": {
    "colab": {
      "name": "model17.ipynb",
      "provenance": [],
      "collapsed_sections": []
    },
    "kernelspec": {
      "name": "python3",
      "display_name": "Python 3"
    },
    "accelerator": "TPU"
  },
  "cells": [
    {
      "cell_type": "code",
      "metadata": {
        "id": "VW265eVdfuGu",
        "colab_type": "code",
        "colab": {}
      },
      "source": [
        "import sys\n",
        "import logging\n",
        "import time\n",
        "import numpy as np\n",
        "import pandas as pd\n",
        "\n",
        "from sklearn.model_selection import StratifiedKFold, GridSearchCV\n",
        "from sklearn.metrics import log_loss\n",
        "from sklearn.preprocessing import StandardScaler\n",
        "from sklearn.decomposition import PCA\n",
        "from sklearn.manifold import TSNE\n",
        "from sklearn.cluster import KMeans\n",
        "from sklearn.linear_model import LogisticRegression\n",
        "from sklearn.ensemble import RandomForestClassifier, ExtraTreesClassifier\n",
        "from sklearn.neighbors import KNeighborsClassifier\n",
        "from sklearn.multiclass import OneVsRestClassifier\n",
        "\n",
        "from xgboost import XGBClassifier\n",
        "\n",
        "def elapsed_time(start_time, end_time):\n",
        "    elapsed_sec = end_time - start_time\n",
        "    h = int(elapsed_sec / (60 * 60))\n",
        "    m = int((elapsed_sec % (60 * 60)) / 60)\n",
        "    s = int(elapsed_sec % 60)\n",
        "    return \"{}:{:>02}:{:>02}\".format(h, m, s)\n",
        "\n",
        "def evaluate(y, y_pred):\n",
        "    logloss = log_loss(y, y_pred)\n",
        "    return logloss\n",
        "\n",
        "def load_data(train_data_path='Desktop/otto/train.csv', test_data_path = 'Desktop/otto/test.csv'):\n",
        "    train_df = pd.read_csv(train_data_path, sep=',', index_col=0, header=0)\n",
        "    test_df = pd.read_csv(test_data_path, sep=',', index_col=0, header=0)\n",
        "    #header: 指定第几行作为表头，默认为0,即第一行\n",
        "    #index_col：指定哪一列数据作为行索引\n",
        "    train_df['target'] = train_df['target'].str[-1].astype(int) - 1\n",
        "        \n",
        "    return train_df, test_df\n",
        "\n",
        "def model_CV_train(model, X, y, X_submission, n_classes, n_folds=2):\n",
        "    summary = {}\n",
        "\n",
        "    skf = list(StratifiedKFold(n_folds, random_state=0).split(X, y))\n",
        "    \n",
        "    stack_train = np.zeros((X.shape[0], n_classes))\n",
        "    stack_test = np.zeros((X_submission.shape[0], n_classes))\n",
        "    \n",
        "#     print(\"Model :\" model)\n",
        "\n",
        "    avg_logloss = 0\n",
        "\n",
        "    stack_test_model = np.zeros((X_submission.shape[0], n_classes, len(skf)))\n",
        "    for j, (train_idx, test_idx) in enumerate(skf):\n",
        "        print (\"  Fold %d\" % j)\n",
        "        X_train = X[train_idx]\n",
        "        y_train = y[train_idx]\n",
        "        X_test = X[test_idx]\n",
        "        y_test = y[test_idx]\n",
        "\n",
        "        model.fit(X_train, y_train)\n",
        "\n",
        "        y_test_pred = model.predict_proba(X_test)          \n",
        "        stack_train[test_idx, :] = y_test_pred\n",
        "\n",
        "        logloss = evaluate(y_test, y_test_pred)\n",
        "        avg_logloss += logloss\n",
        "        print (\"  logloss: %f\" % logloss)\n",
        "\n",
        "        y_submission_pred = model.predict_proba(X_submission)           \n",
        "        stack_test_model[:, :, j] = y_submission_pred\n",
        "\n",
        "    avg_logloss = avg_logloss / n_folds\n",
        "    print (\"model average logloss: %f\" % avg_logloss)\n",
        "    summary = avg_logloss\n",
        "\n",
        "    stack_test[:, :] = stack_test_model.mean(axis=2)\n",
        "\n",
        "    return stack_train, stack_test, summary\n",
        "\n",
        "def process_data(X, y, X_submission, ylabel='target', transform=None):\n",
        "#     X = train_df.drop(ylabel, axis=1).to_numpy()\n",
        "#     y = train_df[ylabel].to_numpy()\n",
        "#     X_submission = test_df.to_numpy()\n",
        "    \n",
        "    if len(transform.split()) == 1:\n",
        "        transform = transform.split()[0]\n",
        "    else:\n",
        "        k = int(transform.split()[1])\n",
        "        transform = transform.split()[0] \n",
        "#     print(transform, k)\n",
        "    \n",
        "    if transform == 'standarization':\n",
        "        scaler = StandardScaler()\n",
        "        scaler.fit(X)\n",
        "        X = scaler.transform(X)\n",
        "        X_submission = scaler.transform(X_submission)\n",
        "    elif transform == 'log':\n",
        "        X = np.log1p(X)\n",
        "        X_submission = np.log1p(X_submission)\n",
        "    elif transform == 'sqrt':\n",
        "        X = np.sqrt(X + 3.0 / 8)\n",
        "        X_submission = np.sqrt(X_submission + 3.0 / 8)\n",
        "    elif transform == 'pca':\n",
        "        pca = PCA(n_components=3).fit(X)\n",
        "        X = pca.transform(X)\n",
        "        X_submission = pca.transform(X_submission)\n",
        "    elif transform == 'tsne':\n",
        "        tsne = TSNE(n_components=3).fit(X)\n",
        "        X = tsne.transform(X)\n",
        "        X_submission = tsne.transform(X_submission)\n",
        "    elif transform == 'kmeans':\n",
        "        kmeans = KMeans(n_clusters = k).fit(X)\n",
        "        X = kmeans.labels_\n",
        "        X_submission = kmeans.predict(X_submission)\n",
        "    elif transform == 'pca+':\n",
        "        pca = PCA(n_components=3).fit(X)\n",
        "        X = np.hstack((X, pca.transform(X)))\n",
        "        X_submission = np.hstack((X, pca.transform(X)))\n",
        "    elif transform == 'tsne+':\n",
        "#         tsne = TSNE(n_components=3).fit(X)\n",
        "        X = np.hstack((X, TSNE(n_components=3).fit_transform(X)))\n",
        "        X_submission = np.hstack((X_submission, TSNE(n_components=3).fit_transform(X_submission)))    \n",
        "#     print(X.shape)\n",
        "    return X, y, X_submission\n",
        "\n",
        "\n"
      ],
      "execution_count": 0,
      "outputs": []
    },
    {
      "cell_type": "code",
      "metadata": {
        "id": "17x6HtY1f-pI",
        "colab_type": "code",
        "outputId": "4bd33192-0272-476d-d7a7-506cdcab47a9",
        "colab": {
          "base_uri": "https://localhost:8080/",
          "height": 34
        }
      },
      "source": [
        "  start_time = time.time()\n",
        "\n",
        "  logging.basicConfig(level=logging.DEBUG,\n",
        "                      format='[%(asctime)s]: %(message)s ',\n",
        "                      datefmt='%Y-%m-%d %H:%M:%S',\n",
        "                      stream=sys.stdout,\n",
        "                      filemode=\"w\"\n",
        "                      )\n",
        "\n",
        "  # load data\n",
        "  logging.info('Load data')\n",
        "  train_df, test_df = load_data(train_data_path='Desktop/otto/train.csv', test_data_path='Desktop/otto/test.csv')"
      ],
      "execution_count": 0,
      "outputs": [
        {
          "output_type": "stream",
          "text": [
            "[2020-03-03 23:34:28]: Load data \n"
          ],
          "name": "stdout"
        }
      ]
    },
    {
      "cell_type": "code",
      "metadata": {
        "id": "r7s_TLfLgJ6v",
        "colab_type": "code",
        "outputId": "3fd4fc46-cca4-4ed9-b3bd-373064204d76",
        "colab": {
          "base_uri": "https://localhost:8080/",
          "height": 51
        }
      },
      "source": [
        "# Process data\n",
        "X = train_df.drop('target', axis=1).to_numpy()\n",
        "y = train_df['target'].to_numpy()\n",
        "X_submission = test_df.to_numpy()\n",
        "\n",
        "Xo_ = X\n",
        "yo_ = y\n",
        "Xo_submission_ = X_submission\n",
        "\n",
        "X, y, X_submission = process_data(X, y, X_submission, transform = 'tsne+')\n",
        "Xc_, yc_, Xc_submission_ = process_data(Xo_, yo_, Xo_submission_, transform = 'log')\n",
        "Xc_, yc_, Xc_submission_ = process_data(Xc_, yc_, Xc_submission_, transform = 'kmeans 9')\n",
        "#         print(X.shape)\n",
        "#         print(X_submission.shape)\n",
        "X = np.hstack((X, Xc_.reshape(-1, 1)))\n",
        "X_submission = np.hstack((X_submission, Xc_submission_.reshape(-1, 1)))\n",
        "\n",
        "print(X.shape)\n",
        "print(X_submission.shape)"
      ],
      "execution_count": 0,
      "outputs": [
        {
          "output_type": "stream",
          "text": [
            "(61878, 97)\n",
            "(144368, 97)\n"
          ],
          "name": "stdout"
        }
      ]
    },
    {
      "cell_type": "code",
      "metadata": {
        "id": "KOpuSTfMwJGQ",
        "colab_type": "code",
        "outputId": "2ba59ec7-13e5-4938-b060-454b215493e9",
        "colab": {
          "base_uri": "https://localhost:8080/",
          "height": 119
        }
      },
      "source": [
        "parameters = {\n",
        "    'estimator__learning_rate': [0.03],\n",
        "    'estimator__n_estimators': [500], \n",
        "    'estimator__max_depth': [28],\n",
        "    'estimator__gamma' :[0],       \n",
        "    'estimator__subsample': [0.5],\n",
        "    'estimator__colsample_bytree': [0.6],\n",
        "    'estimator__n_jobs': [-1]\n",
        "    }\n",
        "\n",
        "# Train model using best parameters\n",
        "estimator__learning_rate= []\n",
        "estimator__n_estimators = []\n",
        "estimator__max_depth=[]\n",
        "mean_test_score = []\n",
        "for i in range(len(parameters['estimator__learning_rate'])):\n",
        "    for k in range(len(parameters['estimator__n_estimators'])):\n",
        "      for j in range (len(parameters['estimator__max_depth'])):\n",
        "          model = XGBClassifier(objective='multi:softprob', \n",
        "                          n_jobs=-1, \n",
        "                          gamma = 1,\n",
        "                          learning_rate=parameters['estimator__learning_rate'][i],\n",
        "                          colsample_bytree = 1,\n",
        "                          n_estimators=parameters['estimator__n_estimators'][k],\n",
        "                          max_depth=parameters['estimator__max_depth'][j],\n",
        "                          \n",
        "                          subsample=0.7)\n",
        "          print(\"n_estimators: {}, estimator__max_depth: {},learning_rate: {}\".format(parameters['estimator__n_estimators'][k],parameters['estimator__max_depth'][j], parameters['estimator__learning_rate'][i]))\n",
        "          train_models_pred, test_models_pred, avg_logloss = model_CV_train(model, X, y, X_submission, n_classes=9, n_folds=2)\n",
        "          estimator__learning_rate.append(parameters['estimator__learning_rate'][i])\n",
        "          estimator__max_depth.append(parameters['estimator__max_depth'][j])\n",
        "          estimator__n_estimators.append(parameters['estimator__n_estimators'][k])\n",
        "          mean_test_score.append(avg_logloss)\n",
        "          end_time = time.time()"
      ],
      "execution_count": 0,
      "outputs": [
        {
          "output_type": "stream",
          "text": [
            "n_estimators: 500, estimator__max_depth: 28,learning_rate: 0.03\n",
            "  Fold 0\n",
            "  logloss: 0.491452\n",
            "  Fold 1\n",
            "  logloss: 0.481934\n",
            "model average logloss: 0.486693\n"
          ],
          "name": "stdout"
        }
      ]
    },
    {
      "cell_type": "code",
      "metadata": {
        "id": "eL_dWglDiM-o",
        "colab_type": "code",
        "outputId": "95e6ed95-72ea-47c4-e5b8-4bef0f5ea99f",
        "colab": {
          "base_uri": "https://localhost:8080/",
          "height": 204
        }
      },
      "source": [
        "best_model = XGBClassifier(\n",
        "        objective = 'multi:softprob',\n",
        "        n_estimators = 400,\n",
        "        max_depth = 8,\n",
        "        learning_rate = 0.1,\n",
        "        subsample = 0.7,\n",
        "        colsample_bytree = 1,\n",
        "        gamma = 1)\n",
        "\n",
        "# Train model using best parameters\n",
        "train_models_pred, test_models_pred, summary = model_CV_train(best_model, X, y, X_submission, n_classes=9, n_folds=5)\n",
        "\n",
        "# Export predictions\n",
        "np.savetxt(\"model17_train.csv\", train_models_pred, delimiter=\",\")\n",
        "np.savetxt(\"model17_test.csv\", test_models_pred, delimiter=\",\")"
      ],
      "execution_count": 0,
      "outputs": [
        {
          "output_type": "stream",
          "text": [
            "  Fold 0\n",
            "  logloss: 0.458139\n",
            "  Fold 1\n",
            "  logloss: 0.466149\n",
            "  Fold 2\n",
            "  logloss: 0.454534\n",
            "  Fold 3\n",
            "  logloss: 0.442802\n",
            "  Fold 4\n",
            "  logloss: 0.456830\n",
            "model average logloss: 0.455691\n"
          ],
          "name": "stdout"
        }
      ]
    },
    {
      "cell_type": "code",
      "metadata": {
        "id": "jWneaoP0f8b1",
        "colab_type": "code",
        "outputId": "f7cab2c0-255c-4b4a-b5cd-8377c22f748f",
        "colab": {
          "base_uri": "https://localhost:8080/",
          "height": 85
        }
      },
      "source": [
        "\n",
        "# Tune parameters\n",
        "model = XGBClassifier(objective='multi:softprob');\n",
        "parameters = {\n",
        "    'estimator__learning_rate': [0.1,0.2,0.3],\n",
        "    'estimator__n_estimators': [200,400,600], \n",
        "    'estimator__max_depth': [8,10,12],\n",
        "    'estimator__gamma' :[1],       \n",
        "    'estimator__subsample': [0.5],\n",
        "    'estimator__colsample_bytree': [1],\n",
        "    'estimator__n_jobs': [-1]\n",
        "    }\n",
        "\n",
        "classifier=GridSearchCV(model, parameters, scoring='neg_log_loss', verbose=1, n_jobs=-1, cv=5);                               \n",
        "classifier.fit(X, y);\n",
        "\n"
      ],
      "execution_count": 0,
      "outputs": [
        {
          "output_type": "stream",
          "text": [
            "Fitting 5 folds for each of 27 candidates, totalling 135 fits\n"
          ],
          "name": "stdout"
        },
        {
          "output_type": "stream",
          "text": [
            "[Parallel(n_jobs=-1)]: Using backend LokyBackend with 2 concurrent workers.\n",
            "[Parallel(n_jobs=-1)]: Done  46 tasks      | elapsed: 53.5min\n",
            "[Parallel(n_jobs=-1)]: Done 135 out of 135 | elapsed: 157.0min finished\n"
          ],
          "name": "stderr"
        }
      ]
    },
    {
      "cell_type": "code",
      "metadata": {
        "id": "sgookO3gg2ze",
        "colab_type": "code",
        "outputId": "d3b0c381-b4cf-494a-a16a-d895848347cc",
        "colab": {
          "base_uri": "https://localhost:8080/",
          "height": 232
        }
      },
      "source": [
        "print(classifier.cv_results_.keys())\n",
        "print('best_params:',classifier.best_params_)\n",
        "print('best_score:',classifier.best_score_)\n",
        "for i in range(len(classifier.ca_results_['params'])):\n",
        "  print('{},{}'.format(classifier.cv_results_['params'][i],classifier.cv_results_['mean_test_score'][i]))"
      ],
      "execution_count": 0,
      "outputs": [
        {
          "output_type": "error",
          "ename": "NameError",
          "evalue": "ignored",
          "traceback": [
            "\u001b[0;31m---------------------------------------------------------------------------\u001b[0m",
            "\u001b[0;31mNameError\u001b[0m                                 Traceback (most recent call last)",
            "\u001b[0;32m<ipython-input-1-775c10365824>\u001b[0m in \u001b[0;36m<module>\u001b[0;34m()\u001b[0m\n\u001b[0;32m----> 1\u001b[0;31m \u001b[0mprint\u001b[0m\u001b[0;34m(\u001b[0m\u001b[0mclassifier\u001b[0m\u001b[0;34m.\u001b[0m\u001b[0mcv_results_\u001b[0m\u001b[0;34m.\u001b[0m\u001b[0mkeys\u001b[0m\u001b[0;34m(\u001b[0m\u001b[0;34m)\u001b[0m\u001b[0;34m)\u001b[0m\u001b[0;34m\u001b[0m\u001b[0;34m\u001b[0m\u001b[0m\n\u001b[0m\u001b[1;32m      2\u001b[0m \u001b[0mprint\u001b[0m\u001b[0;34m(\u001b[0m\u001b[0;34m'best_params:'\u001b[0m\u001b[0;34m,\u001b[0m\u001b[0mclassifier\u001b[0m\u001b[0;34m.\u001b[0m\u001b[0mbest_params_\u001b[0m\u001b[0;34m)\u001b[0m\u001b[0;34m\u001b[0m\u001b[0;34m\u001b[0m\u001b[0m\n\u001b[1;32m      3\u001b[0m \u001b[0mprint\u001b[0m\u001b[0;34m(\u001b[0m\u001b[0;34m'best_score:'\u001b[0m\u001b[0;34m,\u001b[0m\u001b[0mclassifier\u001b[0m\u001b[0;34m.\u001b[0m\u001b[0mbest_score_\u001b[0m\u001b[0;34m)\u001b[0m\u001b[0;34m\u001b[0m\u001b[0;34m\u001b[0m\u001b[0m\n\u001b[1;32m      4\u001b[0m \u001b[0;32mfor\u001b[0m \u001b[0mi\u001b[0m \u001b[0;32min\u001b[0m \u001b[0mrange\u001b[0m\u001b[0;34m(\u001b[0m\u001b[0mlen\u001b[0m\u001b[0;34m(\u001b[0m\u001b[0mclassifier\u001b[0m\u001b[0;34m.\u001b[0m\u001b[0mca_results_\u001b[0m\u001b[0;34m[\u001b[0m\u001b[0;34m'params'\u001b[0m\u001b[0;34m]\u001b[0m\u001b[0;34m)\u001b[0m\u001b[0;34m)\u001b[0m\u001b[0;34m:\u001b[0m\u001b[0;34m\u001b[0m\u001b[0;34m\u001b[0m\u001b[0m\n\u001b[1;32m      5\u001b[0m   \u001b[0mprint\u001b[0m\u001b[0;34m(\u001b[0m\u001b[0;34m'{},{}'\u001b[0m\u001b[0;34m.\u001b[0m\u001b[0mformat\u001b[0m\u001b[0;34m(\u001b[0m\u001b[0mclassifier\u001b[0m\u001b[0;34m.\u001b[0m\u001b[0mcv_results_\u001b[0m\u001b[0;34m[\u001b[0m\u001b[0;34m'params'\u001b[0m\u001b[0;34m]\u001b[0m\u001b[0;34m[\u001b[0m\u001b[0mi\u001b[0m\u001b[0;34m]\u001b[0m\u001b[0;34m,\u001b[0m\u001b[0mclassifier\u001b[0m\u001b[0;34m.\u001b[0m\u001b[0mcv_results_\u001b[0m\u001b[0;34m[\u001b[0m\u001b[0;34m'mean_test_score'\u001b[0m\u001b[0;34m]\u001b[0m\u001b[0;34m[\u001b[0m\u001b[0mi\u001b[0m\u001b[0;34m]\u001b[0m\u001b[0;34m)\u001b[0m\u001b[0;34m)\u001b[0m\u001b[0;34m\u001b[0m\u001b[0;34m\u001b[0m\u001b[0m\n",
            "\u001b[0;31mNameError\u001b[0m: name 'classifier' is not defined"
          ]
        }
      ]
    },
    {
      "cell_type": "code",
      "metadata": {
        "id": "y5xSLYxBgm4k",
        "colab_type": "code",
        "colab": {}
      },
      "source": [
        "\n",
        "\n",
        "# Train model using best parameters\n",
        "train_models_pred, test_models_pred, summary = model_CV_train(model, X, y, X_submission, n_classes=9, n_folds=5)\n",
        "\n",
        "#     print(X)\n",
        "#     print(y)\n",
        "\n",
        "end_time = time.time()\n",
        "logging.info(\"Run complete: %s elapsed\" % elapsed_time(start_time, end_time))"
      ],
      "execution_count": 0,
      "outputs": []
    }
  ]
}