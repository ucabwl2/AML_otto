{
  "nbformat": 4,
  "nbformat_minor": 0,
  "metadata": {
    "colab": {
      "name": "model18.ipynb",
      "provenance": [],
      "toc_visible": true
    },
    "kernelspec": {
      "name": "python3",
      "display_name": "Python 3"
    },
    "accelerator": "TPU"
  },
  "cells": [
    {
      "cell_type": "code",
      "metadata": {
        "id": "ZFqnN9Kzy552",
        "colab_type": "code",
        "colab": {}
      },
      "source": [
        "\n",
        "import sys\n",
        "import logging\n",
        "import time\n",
        "import numpy as np\n",
        "import pandas as pd\n",
        "\n",
        "from sklearn.model_selection import StratifiedKFold, GridSearchCV\n",
        "from sklearn.metrics import log_loss\n",
        "from sklearn.preprocessing import StandardScaler\n",
        "from sklearn.decomposition import PCA\n",
        "from sklearn.manifold import TSNE\n",
        "from sklearn.cluster import KMeans\n",
        "from sklearn.linear_model import LogisticRegression\n",
        "from sklearn.ensemble import RandomForestClassifier, ExtraTreesClassifier\n",
        "from sklearn.neighbors import KNeighborsClassifier\n",
        "from sklearn.multiclass import OneVsRestClassifier\n",
        "\n",
        "from xgboost import XGBClassifier\n",
        "\n",
        "def elapsed_time(start_time, end_time):\n",
        "    elapsed_sec = end_time - start_time\n",
        "    h = int(elapsed_sec / (60 * 60))\n",
        "    m = int((elapsed_sec % (60 * 60)) / 60)\n",
        "    s = int(elapsed_sec % 60)\n",
        "    return \"{}:{:>02}:{:>02}\".format(h, m, s)\n",
        "\n",
        "def evaluate(y, y_pred):\n",
        "    logloss = log_loss(y, y_pred)\n",
        "    return logloss\n",
        "\n",
        "def load_data(train_data_path='Desktop/otto/train.csv', test_data_path = 'Desktop/otto/test.csv'):\n",
        "    train_df = pd.read_csv(train_data_path, sep=',', index_col=0, header=0)\n",
        "    test_df = pd.read_csv(test_data_path, sep=',', index_col=0, header=0)\n",
        "    \n",
        "    train_df['target'] = train_df['target'].str[-1].astype(int) - 1\n",
        "        \n",
        "    return train_df, test_df\n",
        "\n",
        "def model_CV_train(model, X, y, X_submission, n_classes, n_folds=5):\n",
        "    summary = {}\n",
        "\n",
        "    skf = list(StratifiedKFold(n_folds, random_state=0).split(X, y))\n",
        "    \n",
        "    stack_train = np.zeros((X.shape[0], n_classes))\n",
        "    stack_test = np.zeros((X_submission.shape[0], n_classes))\n",
        "    \n",
        "#     print(\"Model :\" model)\n",
        "\n",
        "    avg_logloss = 0\n",
        "\n",
        "    stack_test_model = np.zeros((X_submission.shape[0], n_classes, len(skf)))\n",
        "    for j, (train_idx, test_idx) in enumerate(skf):\n",
        "        print (\"  Fold %d\" % j)\n",
        "        X_train = X[train_idx]\n",
        "        y_train = y[train_idx]\n",
        "        X_test = X[test_idx]\n",
        "        y_test = y[test_idx]\n",
        "\n",
        "        model.fit(X_train, y_train)\n",
        "\n",
        "        y_test_pred = model.predict_proba(X_test)          \n",
        "        stack_train[test_idx, :] = y_test_pred\n",
        "\n",
        "        logloss = evaluate(y_test, y_test_pred)\n",
        "        avg_logloss += logloss\n",
        "        print (\"  logloss: %f\" % logloss)\n",
        "\n",
        "        y_submission_pred = model.predict_proba(X_submission)           \n",
        "        stack_test_model[:, :, j] = y_submission_pred\n",
        "\n",
        "    avg_logloss = avg_logloss / n_folds\n",
        "    print (\"model average logloss: %f\" % avg_logloss)\n",
        "    summary = avg_logloss\n",
        "\n",
        "    stack_test[:, :] = stack_test_model.mean(axis=2)\n",
        "\n",
        "    return stack_train, stack_test, summary\n",
        "\n",
        "def process_data(X, y, X_submission, ylabel='target', transform=None):\n",
        "#     X = train_df.drop(ylabel, axis=1).to_numpy()\n",
        "#     y = train_df[ylabel].to_numpy()\n",
        "#     X_submission = test_df.to_numpy()\n",
        "    \n",
        "    if len(transform.split()) == 1:\n",
        "        transform = transform.split()[0]\n",
        "    else:\n",
        "        k = int(transform.split()[1])\n",
        "        transform = transform.split()[0] \n",
        "#     print(transform, k)\n",
        "    \n",
        "    if transform == 'standarization':\n",
        "        scaler = StandardScaler()\n",
        "        scaler.fit(X)\n",
        "        X = scaler.transform(X)\n",
        "        X_submission = scaler.transform(X_submission)\n",
        "    elif transform == 'log':\n",
        "        X = np.log1p(X + 1)\n",
        "        X_submission = np.log1p(X_submission + 1)\n",
        "    elif transform == 'sqrt':\n",
        "        X = np.sqrt(X + 3.0 / 8)\n",
        "        X_submission = np.sqrt(X_submission + 3.0 / 8)\n",
        "    elif transform == 'pca':\n",
        "        pca = PCA(n_components=3).fit(X)\n",
        "        X = pca.transform(X)\n",
        "        X_submission = pca.transform(X_submission)\n",
        "    elif transform == 'tsne':\n",
        "        tsne = TSNE(n_components=3).fit(X)\n",
        "        X = tsne.transform(X)\n",
        "        X_submission = tsne.transform(X_submission)\n",
        "    elif transform == 'kmeans':\n",
        "        kmeans = KMeans(n_clusters = k).fit(X)\n",
        "        X = kmeans.labels_\n",
        "        X_submission = kmeans.predict(X_submission)\n",
        "    elif transform == 'pca+':\n",
        "        pca = PCA(n_components=3).fit(X)\n",
        "        X = np.hstack((X, pca.transform(X)))\n",
        "        X_submission = np.hstack((X, pca.transform(X)))\n",
        "    elif transform == 'tsne+':\n",
        "#         tsne = TSNE(n_components=3).fit(X)\n",
        "        X = np.hstack((X, TSNE(n_components=3).fit_transform(X)))\n",
        "        X_submission = np.hstack((X_submission, TSNE(n_components=3).fit_transform(X_submission)))   \n",
        "#     print(X.shape)\n",
        "    return X, y, X_submission\n",
        "\n"
      ],
      "execution_count": 0,
      "outputs": []
    },
    {
      "cell_type": "code",
      "metadata": {
        "id": "Ko1a_RfpzC0Q",
        "colab_type": "code",
        "outputId": "447dfa7c-b1d3-4d17-f9c7-ea43a8af1852",
        "colab": {
          "base_uri": "https://localhost:8080/",
          "height": 35
        }
      },
      "source": [
        "\n",
        "start_time = time.time()\n",
        "\n",
        "logging.basicConfig(level=logging.DEBUG,\n",
        "                    format='[%(asctime)s]: %(message)s ',\n",
        "                    datefmt='%Y-%m-%d %H:%M:%S',\n",
        "                    stream=sys.stdout,\n",
        "                    filemode=\"w\"\n",
        "                    )\n",
        "\n",
        "# load data\n",
        "logging.info('Load data')\n",
        "train_df, test_df = load_data(train_data_path='Desktop/otto/train.csv', test_data_path='Desktop/otto/test.csv')\n",
        "\n",
        "\n",
        "\n",
        "\n",
        "\n",
        "\n"
      ],
      "execution_count": 0,
      "outputs": [
        {
          "output_type": "stream",
          "text": [
            "[2020-03-03 00:34:24]: Load data \n"
          ],
          "name": "stdout"
        }
      ]
    },
    {
      "cell_type": "code",
      "metadata": {
        "id": "hHP-qB4pzH8g",
        "colab_type": "code",
        "outputId": "defa0705-a62d-49f0-a8d4-5147efd8d584",
        "colab": {
          "base_uri": "https://localhost:8080/",
          "height": 52
        }
      },
      "source": [
        "# Process data\n",
        "X = train_df.drop('target', axis=1).to_numpy()\n",
        "y = train_df['target'].to_numpy()\n",
        "X_submission = test_df.to_numpy()\n",
        "\n",
        "Xo = np.copy(X)\n",
        "Xo_submission = np.copy(X_submission)\n",
        "\n",
        "X, y, X_submission = process_data(X, y, X_submission, transform = 'tsne+')\n",
        "Xo, y, Xo_submission = process_data(Xo, y, Xo_submission, transform = 'standarization')\n",
        "Xo, y, Xo_submission = process_data(Xo, y, Xo_submission, transform = 'kmeans 9')\n",
        "X = np.hstack((X, Xo.reshape(-1, 1)))\n",
        "X_submission = np.hstack((X_submission, Xo_submission.reshape(-1, 1)))\n",
        "\n",
        "print(X.shape)\n",
        "print(X_submission.shape)"
      ],
      "execution_count": 0,
      "outputs": [
        {
          "output_type": "stream",
          "text": [
            "(61878, 97)\n",
            "(144368, 97)\n"
          ],
          "name": "stdout"
        }
      ]
    },
    {
      "cell_type": "code",
      "metadata": {
        "id": "3kDxLtMBzIrk",
        "colab_type": "code",
        "outputId": "bc9b0efa-0d96-4fc9-e3d1-e537515f8d81",
        "colab": {
          "base_uri": "https://localhost:8080/",
          "height": 365
        }
      },
      "source": [
        "# Tune parameters\n",
        "#model = XGBClassifier(objective='multi:softprob');\n",
        "parameters = {\n",
        "    'estimator__learning_rate': [0.1,0.2,0.3],\n",
        "    'estimator__n_estimators': [200,300,400,500,600], \n",
        "    'estimator__max_depth': [8,10,12],\n",
        "    'estimator__gamma' :[1],       \n",
        "    'estimator__subsample': [0.5],\n",
        "    'estimator__colsample_bytree': [1],\n",
        "    'estimator__n_jobs': [-1]\n",
        "    }\n",
        "\n",
        "# classifier=GridSearchCV(model, parameters, scoring='neg_log_loss', verbose=1, n_jobs=-1, cv=5);                               \n",
        "# classifier.fit(X, y);\n",
        "\n",
        "# print(classifier.cv_results_.keys())\n",
        "# print('best_params: ',classifier.best_params_)\n",
        "# print('best_score: ',classifier.best_score_)\n",
        "# for i in range(len(classifier.cv_results_['params'])):\n",
        "#     print('{}, {}'.format(classifier.cv_results_['params'][i], classifier.cv_results_['mean_test_score'][i]))\n"
      ],
      "execution_count": 0,
      "outputs": [
        {
          "output_type": "stream",
          "text": [
            "Fitting 5 folds for each of 12 candidates, totalling 60 fits\n"
          ],
          "name": "stdout"
        },
        {
          "output_type": "stream",
          "text": [
            "[Parallel(n_jobs=-1)]: Using backend LokyBackend with 8 concurrent workers.\n",
            "[Parallel(n_jobs=-1)]: Done  34 tasks      | elapsed: 57.9min\n",
            "[Parallel(n_jobs=-1)]: Done  60 out of  60 | elapsed: 89.7min finished\n"
          ],
          "name": "stderr"
        },
        {
          "output_type": "stream",
          "text": [
            "dict_keys(['mean_fit_time', 'std_fit_time', 'mean_score_time', 'std_score_time', 'param_estimator__colsample_bytree', 'param_estimator__gamma', 'param_estimator__learning_rate', 'param_estimator__max_depth', 'param_estimator__n_estimators', 'param_estimator__n_jobs', 'param_estimator__subsample', 'params', 'split0_test_score', 'split1_test_score', 'split2_test_score', 'split3_test_score', 'split4_test_score', 'mean_test_score', 'std_test_score', 'rank_test_score'])\n",
            "best_params:  {'estimator__colsample_bytree': 1, 'estimator__gamma': 1, 'estimator__learning_rate': 0.1, 'estimator__max_depth': 9, 'estimator__n_estimators': 200, 'estimator__n_jobs': -1, 'estimator__subsample': 0.5}\n",
            "best_score:  -0.4753452449021023\n",
            "{'estimator__colsample_bytree': 1, 'estimator__gamma': 1, 'estimator__learning_rate': 0.1, 'estimator__max_depth': 9, 'estimator__n_estimators': 200, 'estimator__n_jobs': -1, 'estimator__subsample': 0.5}, -0.4753452449021023\n",
            "{'estimator__colsample_bytree': 1, 'estimator__gamma': 1, 'estimator__learning_rate': 0.1, 'estimator__max_depth': 9, 'estimator__n_estimators': 400, 'estimator__n_jobs': -1, 'estimator__subsample': 0.5}, -0.4753452449021023\n",
            "{'estimator__colsample_bytree': 1, 'estimator__gamma': 1, 'estimator__learning_rate': 0.1, 'estimator__max_depth': 9, 'estimator__n_estimators': 600, 'estimator__n_jobs': -1, 'estimator__subsample': 0.5}, -0.4753452449021023\n",
            "{'estimator__colsample_bytree': 1, 'estimator__gamma': 1, 'estimator__learning_rate': 0.1, 'estimator__max_depth': 12, 'estimator__n_estimators': 200, 'estimator__n_jobs': -1, 'estimator__subsample': 0.5}, -0.4753452449021023\n",
            "{'estimator__colsample_bytree': 1, 'estimator__gamma': 1, 'estimator__learning_rate': 0.1, 'estimator__max_depth': 12, 'estimator__n_estimators': 400, 'estimator__n_jobs': -1, 'estimator__subsample': 0.5}, -0.4753452449021023\n",
            "{'estimator__colsample_bytree': 1, 'estimator__gamma': 1, 'estimator__learning_rate': 0.1, 'estimator__max_depth': 12, 'estimator__n_estimators': 600, 'estimator__n_jobs': -1, 'estimator__subsample': 0.5}, -0.4753452449021023\n",
            "{'estimator__colsample_bytree': 1, 'estimator__gamma': 1, 'estimator__learning_rate': 0.3, 'estimator__max_depth': 9, 'estimator__n_estimators': 200, 'estimator__n_jobs': -1, 'estimator__subsample': 0.5}, -0.4753452449021023\n",
            "{'estimator__colsample_bytree': 1, 'estimator__gamma': 1, 'estimator__learning_rate': 0.3, 'estimator__max_depth': 9, 'estimator__n_estimators': 400, 'estimator__n_jobs': -1, 'estimator__subsample': 0.5}, -0.4753452449021023\n",
            "{'estimator__colsample_bytree': 1, 'estimator__gamma': 1, 'estimator__learning_rate': 0.3, 'estimator__max_depth': 9, 'estimator__n_estimators': 600, 'estimator__n_jobs': -1, 'estimator__subsample': 0.5}, -0.4753452449021023\n",
            "{'estimator__colsample_bytree': 1, 'estimator__gamma': 1, 'estimator__learning_rate': 0.3, 'estimator__max_depth': 12, 'estimator__n_estimators': 200, 'estimator__n_jobs': -1, 'estimator__subsample': 0.5}, -0.4753452449021023\n",
            "{'estimator__colsample_bytree': 1, 'estimator__gamma': 1, 'estimator__learning_rate': 0.3, 'estimator__max_depth': 12, 'estimator__n_estimators': 400, 'estimator__n_jobs': -1, 'estimator__subsample': 0.5}, -0.4753452449021023\n",
            "{'estimator__colsample_bytree': 1, 'estimator__gamma': 1, 'estimator__learning_rate': 0.3, 'estimator__max_depth': 12, 'estimator__n_estimators': 600, 'estimator__n_jobs': -1, 'estimator__subsample': 0.5}, -0.4753452449021023\n"
          ],
          "name": "stdout"
        }
      ]
    },
    {
      "cell_type": "code",
      "metadata": {
        "id": "l32nKB3Kli5J",
        "colab_type": "code",
        "colab": {}
      },
      "source": [
        "parameters = {\n",
        "    'estimator__learning_rate': [0.03],\n",
        "    'estimator__n_estimators': [500], \n",
        "    'estimator__max_depth': [28],\n",
        "    'estimator__gamma' :[0],       \n",
        "    'estimator__subsample': [0.8],\n",
        "    'estimator__colsample_bytree': [0.6],\n",
        "    'estimator__n_jobs': [-1],\n",
        "    'colsample_bylevel':[1],\n",
        "    'scale_pos_weight':[1],\n",
        "    'min_child_weight':[6],\n",
        "    'reg_lambda':[1],\n",
        "    'silent':[True]\n",
        "    }"
      ],
      "execution_count": 0,
      "outputs": []
    },
    {
      "cell_type": "code",
      "metadata": {
        "id": "hJJUGrvrjRcw",
        "colab_type": "code",
        "outputId": "3073c36f-5736-462a-9d0c-f84dc078c3b9",
        "colab": {
          "base_uri": "https://localhost:8080/",
          "height": 121
        }
      },
      "source": [
        "estimator__learning_rate= []\n",
        "estimator__n_estimators=[]\n",
        "estimator__max_depth=[]\n",
        "mean_test_score = []\n",
        "for i in range(len(parameters['estimator__learning_rate'])):\n",
        "  for k in range(len(parameters['estimator__n_estimators'])):\n",
        "    for j in range(len(parameters['estimator__max_depth'])):\n",
        "\n",
        "      model = XGBClassifier(objective='multi:softprob', \n",
        "                          n_jobs=-1, \n",
        "                          gamma=1,\n",
        "                          learning_rate=parameters['estimator__learning_rate'][i],\n",
        "                          max_depth = parameters['estimator__max_depth'][j],\n",
        "                          n_estimators=parameters['estimator__n_estimators'][k],\n",
        "                          \n",
        "                          colsample_bytree=1,\n",
        "                          subsample=0.7)\n",
        "      print(\"learning_rate: {},max_depth:{}, n_estimators: {}\".format(parameters['estimator__learning_rate'][i],parameters['estimator__max_depth'][j],parameters['estimator__n_estimators'][k]))\n",
        "      train_models_pred, test_models_pred, avg_logloss = model_CV_train(model, X, y, X_submission, n_classes=9, n_folds=2)\n",
        "      estimator__learning_rate.append(parameters['estimator__learning_rate'][i])\n",
        "      estimator__max_depth.append(parameters['estimator__max_depth'][j])\n",
        "      estimator__n_estimators.append(parameters['estimator__n_estimators'][k])\n",
        "      mean_test_score.append(avg_logloss)\n",
        "      end_time = time.time()"
      ],
      "execution_count": 0,
      "outputs": [
        {
          "output_type": "stream",
          "text": [
            "learning_rate: 0.03,max_depth:28, n_estimators: 500\n",
            "  Fold 0\n",
            "  logloss: 0.492599\n",
            "  Fold 1\n",
            "  logloss: 0.477116\n",
            "model average logloss: 0.484857\n"
          ],
          "name": "stdout"
        }
      ]
    },
    {
      "cell_type": "code",
      "metadata": {
        "id": "hyK2yMVuzLDI",
        "colab_type": "code",
        "outputId": "38aa9d3a-5564-4169-bcdd-5a3d9dc11e8b",
        "colab": {
          "base_uri": "https://localhost:8080/",
          "height": 207
        }
      },
      "source": [
        "# Train model using best parameters\n",
        "model = XGBClassifier(\n",
        "    objective = 'multi:softprob',\n",
        "    n_estimators = 300,\n",
        "    max_depth = 8,\n",
        "    learning_rate = 0.1,\n",
        "    subsample =0.5,\n",
        "    colsample_bytree = 1,\n",
        "    gamma = 1)\n",
        "\n",
        "# Train model using best parameters\n",
        "train_models_pred, test_models_pred, summary = model_CV_train(model, X, y, X_submission, n_classes=9, n_folds=5)\n",
        "\n"
      ],
      "execution_count": 0,
      "outputs": [
        {
          "output_type": "stream",
          "text": [
            "  Fold 0\n",
            "  logloss: 0.454392\n",
            "  Fold 1\n",
            "  logloss: 0.468858\n",
            "  Fold 2\n",
            "  logloss: 0.455926\n",
            "  Fold 3\n",
            "  logloss: 0.441679\n",
            "  Fold 4\n",
            "  logloss: 0.456879\n",
            "model average logloss: 0.455547\n"
          ],
          "name": "stdout"
        }
      ]
    },
    {
      "cell_type": "code",
      "metadata": {
        "id": "41cv9_Hv_Ksg",
        "colab_type": "code",
        "outputId": "20b9c61c-22f6-479e-bb3d-057973d65b2f",
        "colab": {
          "base_uri": "https://localhost:8080/",
          "height": 35
        }
      },
      "source": [
        "# Export predictions\n",
        "np.savetxt(\"Desktop/otto/model18_train.csv\", train_models_pred, delimiter=\",\")\n",
        "np.savetxt(\"Desktop/otto/model18_test.csv\", test_models_pred, delimiter=\",\")\n",
        "\n",
        "end_time = time.time()\n",
        "logging.info(\"Run complete: %s elapsed\" % elapsed_time(start_time, end_time))"
      ],
      "execution_count": 0,
      "outputs": [
        {
          "output_type": "stream",
          "text": [
            "[2020-03-04 21:42:28]: Run complete: 45:08:04 elapsed \n"
          ],
          "name": "stdout"
        }
      ]
    }
  ]
}