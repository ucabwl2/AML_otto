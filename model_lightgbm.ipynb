{
  "nbformat": 4,
  "nbformat_minor": 0,
  "metadata": {
    "colab": {
      "name": "model_lightgbm.ipynb",
      "provenance": [],
      "collapsed_sections": []
    },
    "kernelspec": {
      "name": "python3",
      "display_name": "Python 3"
    },
    "accelerator": "TPU"
  },
  "cells": [
    {
      "cell_type": "code",
      "metadata": {
        "id": "r7llfxvohZFe",
        "colab_type": "code",
        "outputId": "218a1af4-0a08-4b71-e155-a0c87155cce7",
        "colab": {
          "base_uri": "https://localhost:8080/",
          "height": 33
        }
      },
      "source": [
        "import sys\n",
        "import logging\n",
        "import time\n",
        "import numpy as np\n",
        "import pandas as pd\n",
        "import os.path\n",
        "import lightgbm as lgb\n",
        "\n",
        "\n",
        "from sklearn.model_selection import StratifiedKFold, GridSearchCV\n",
        "from sklearn.metrics import log_loss\n",
        "from sklearn.preprocessing import StandardScaler\n",
        "from sklearn.decomposition import PCA\n",
        "from sklearn.manifold import TSNE\n",
        "from sklearn.linear_model import LogisticRegression\n",
        "from sklearn.ensemble import RandomForestClassifier, ExtraTreesClassifier\n",
        "from sklearn.neighbors import KNeighborsClassifier\n",
        "from sklearn.neighbors import NearestNeighbors\n",
        "from sklearn.ensemble import BaggingClassifier\n",
        "from sklearn.naive_bayes import MultinomialNB\n",
        "from sklearn.model_selection import train_test_split\n",
        "\n",
        "from xgboost import XGBClassifier\n",
        "\n",
        "from keras.models import Sequential\n",
        "from keras.layers import Dense, Dropout\n",
        "from keras.wrappers.scikit_learn import KerasClassifier\n",
        "from keras.regularizers import l1_l2\n",
        "import pickle"
      ],
      "execution_count": 2,
      "outputs": [
        {
          "output_type": "stream",
          "text": [
            "Using TensorFlow backend.\n"
          ],
          "name": "stderr"
        }
      ]
    },
    {
      "cell_type": "code",
      "metadata": {
        "id": "u4dJdtsDvSxU",
        "colab_type": "code",
        "colab": {}
      },
      "source": [
        "def elapsed_time(start_time, end_time):\n",
        "    elapsed_sec = end_time - start_time\n",
        "    h = int(elapsed_sec / (60 * 60))\n",
        "    m = int((elapsed_sec % (60 * 60)) / 60)\n",
        "    s = int(elapsed_sec % 60)\n",
        "    return \"{}:{:>02}:{:>02}\".format(h, m, s)"
      ],
      "execution_count": 0,
      "outputs": []
    },
    {
      "cell_type": "code",
      "metadata": {
        "id": "a3dnvwBDeCw3",
        "colab_type": "code",
        "colab": {}
      },
      "source": [
        "def evaluate(y, y_pred):\n",
        "    logloss = log_loss(y, y_pred)\n",
        "    return logloss"
      ],
      "execution_count": 0,
      "outputs": []
    },
    {
      "cell_type": "code",
      "metadata": {
        "id": "SOs82zRuvS-D",
        "colab_type": "code",
        "colab": {}
      },
      "source": [
        "def load_data(train_data_path='data/train.csv', test_data_path = 'data/test.csv'):\n",
        "    train_df = pd.read_csv(train_data_path, sep=',', index_col=0, header=0)\n",
        "    test_df = pd.read_csv(test_data_path, sep=',', index_col=0, header=0)\n",
        "    \n",
        "    train_df['target'] = train_df['target'].str[-1].astype(int) - 1\n",
        "        \n",
        "    return train_df, test_df"
      ],
      "execution_count": 0,
      "outputs": []
    },
    {
      "cell_type": "code",
      "metadata": {
        "id": "Mdc1qDWyvTAh",
        "colab_type": "code",
        "colab": {}
      },
      "source": [
        "def process_data(train_df, test_df, ylabel='target', standarization=False, discretization=False, transform=None):\n",
        "    numerical_features = train_df.columns\n",
        "\n",
        "    if standarization:\n",
        "        standarized_features = numerical_features\n",
        "        standarize_feature(train_df, test_df, standarized_features)\n",
        "        \n",
        "    if discretization:\n",
        "        discretized_features = numerical_features\n",
        "        discretize_feature(train_df, test_df, discretized_features, num_bins=10, how='equal_freq')\n",
        "    \n",
        "    X = train_df.drop(ylabel, axis=1).values\n",
        "    y = train_df[ylabel].values\n",
        "    X_submission = test_df.values\n",
        "\n",
        "    if transform == 'log':\n",
        "        X = np.log1p(X)\n",
        "        X_submission = np.log1p(X_submission)\n",
        "    elif transform == 'sqrt':\n",
        "        X = np.sqrt(X + 3.0 / 8)\n",
        "        X_submission = np.sqrt(X_submission + 3.0 / 8)\n",
        "    elif transform == 'pca':\n",
        "        pca = PCA(n_components=3).fit(X)\n",
        "        X = pca.transform(X)\n",
        "        X_submission = pca.transform(X_submission)\n",
        "    elif transform == 'tsne':\n",
        "        tsne = TSNE(n_components=3).fit(X)\n",
        "        X = tsne.transform(X)\n",
        "        X_submission = tsne.transform(X_submission)\n",
        "    elif transform == 'pca+':\n",
        "        pca = PCA(n_components=3).fit(X)\n",
        "        X = np.hstack((X, pca.transform(X)))\n",
        "        X_submission = np.hstack((X, pca.transform(X)))\n",
        "    elif transform == 'tsne+':\n",
        "        tsne = TSNE(n_components=3).fit(X)\n",
        "        X = np.hstack((X, tsne.transform(X)))\n",
        "        X_submission = np.hstack((X_submission, tsne.transform(X_submission)))        \n",
        "    return X, y, X_submission"
      ],
      "execution_count": 0,
      "outputs": []
    },
    {
      "cell_type": "code",
      "metadata": {
        "id": "H0FBlC_Vve0v",
        "colab_type": "code",
        "colab": {}
      },
      "source": [
        "def model_CV_train(model, X, y, X_submission, n_classes, n_folds=5):\n",
        "    summary = {}\n",
        "\n",
        "    skf = list(StratifiedKFold(n_folds, shuffle =True, random_state=0).split(X, y))\n",
        "    \n",
        "    stack_train = np.zeros((X.shape[0], n_classes))\n",
        "    stack_test = np.zeros((X_submission.shape[0], n_classes))\n",
        "    \n",
        "#     print(\"Model :\" model)\n",
        "\n",
        "    avg_logloss = 0\n",
        "\n",
        "    stack_test_model = np.zeros((X_submission.shape[0], n_classes, len(skf)))\n",
        "    for j, (train_idx, test_idx) in enumerate(skf):\n",
        "        # print (\"  Fold %d\" % j)\n",
        "        X_train = X[train_idx]\n",
        "        y_train = y[train_idx]\n",
        "        X_test = X[test_idx]\n",
        "        y_test = y[test_idx]\n",
        "\n",
        "        model.fit(X_train, y_train)\n",
        "\n",
        "        y_test_pred = model.predict_proba(X_test)          \n",
        "        stack_train[test_idx, :] = y_test_pred\n",
        "\n",
        "        logloss = evaluate(y_test, y_test_pred)\n",
        "        avg_logloss += logloss\n",
        "        print (\"  logloss: %f\" % logloss)\n",
        "\n",
        "        y_submission_pred = model.predict_proba(X_submission)           \n",
        "        stack_test_model[:, :, j] = y_submission_pred\n",
        "        break\n",
        "\n",
        "    # avg_logloss = avg_logloss / n_folds\n",
        "    print (\"model average logloss: %f\" % avg_logloss)\n",
        "    summary = avg_logloss\n",
        "\n",
        "    stack_test[:, :] = stack_test_model.mean(axis=2)\n",
        "\n",
        "    return stack_train, stack_test, summary, avg_logloss"
      ],
      "execution_count": 0,
      "outputs": []
    },
    {
      "cell_type": "code",
      "metadata": {
        "id": "1dNMM5Bjve3M",
        "colab_type": "code",
        "outputId": "6ade682c-da73-4659-a563-607def4b2b1b",
        "colab": {
          "base_uri": "https://localhost:8080/",
          "height": 33
        }
      },
      "source": [
        "start_time = time.time()\n",
        "\n",
        "logging.basicConfig(level=logging.DEBUG,\n",
        "                    format='[%(asctime)s]: %(message)s ',\n",
        "                    datefmt='%Y-%m-%d %H:%M:%S',\n",
        "                    stream=sys.stdout,\n",
        "                    filemode=\"w\"\n",
        "                    )\n",
        "# load data\n",
        "logging.info('Load data')\n",
        "train_df, test_df = load_data(train_data_path='applied/otto/train.csv', test_data_path='applied/otto/test.csv')\n",
        "X, y, X_submission = process_data(train_df, test_df, transform='log')\n",
        "scaler = StandardScaler()\n",
        "scaler.fit(X)\n",
        "X_train_scaled = scaler.transform(X)\n",
        "X_submission_scaled = scaler.transform(X_submission)\n",
        "# X_train, X_test, y_train, y_test = train_test_split(X, y, test_size=0.3, random_state=42)"
      ],
      "execution_count": 21,
      "outputs": [
        {
          "output_type": "stream",
          "text": [
            "[2020-03-03 22:04:42]: Load data \n"
          ],
          "name": "stdout"
        }
      ]
    },
    {
      "cell_type": "markdown",
      "metadata": {
        "id": "t0QGoJ_gz4mt",
        "colab_type": "text"
      },
      "source": [
        ""
      ]
    },
    {
      "cell_type": "code",
      "metadata": {
        "id": "UNiAjCxLEGoN",
        "colab_type": "code",
        "colab": {}
      },
      "source": [
        "# n_estimators=800, min_data_in_leaf=20, min_child_samples=10, num_leaves=60: 0.496482\n",
        "# n_estimators=800, min_data_in_leaf=20, min_child_samples=20, num_leaves=60: 0.496482\n",
        "# n_estimators=800, min_data_in_leaf=20, min_child_samples=20, num_leaves=100: 0.478154\n",
        "# n_estimators=1000, min_data_in_leaf=20, min_child_samples=20, num_leaves=100: 0.464031\n",
        "# n_estimators=1200, min_data_in_leaf=20, min_child_samples=20, num_leaves=100: 0.456716\n",
        "# n_estimators=1400, min_data_in_leaf=20, min_child_samples=20, num_leaves=100: 0.453015\n",
        "# n_estimators=1600, min_data_in_leaf=20, min_child_samples=20, num_leaves=100: 0.451256\n",
        "# n_estimators=1600, min_data_in_leaf=20, min_child_samples=20, num_leaves=200: 0.452092\n",
        "# n_estimators=2000, min_data_in_leaf=20, min_child_samples=20, num_leaves=200: 0.451392\n",
        "# n_estimators=1700, min_data_in_leaf=20, min_child_samples=20, num_leaves=200: 0.450898"
      ],
      "execution_count": 0,
      "outputs": []
    },
    {
      "cell_type": "code",
      "metadata": {
        "id": "2fxAjsgfJCkr",
        "colab_type": "code",
        "colab": {}
      },
      "source": [
        "# Tune parameters\n",
        "parameters = {\n",
        "    'n_estimators': [1700], \n",
        "    'num_leaves': [100]\n",
        "    }"
      ],
      "execution_count": 0,
      "outputs": []
    },
    {
      "cell_type": "code",
      "metadata": {
        "id": "OBNvwLGiXzrr",
        "colab_type": "code",
        "outputId": "b5db6977-9c20-403d-ea7f-977c065783d2",
        "colab": {
          "base_uri": "https://localhost:8080/",
          "height": 67
        }
      },
      "source": [
        "\n",
        "# Train model using best parameters\n",
        "n_estimators= []\n",
        "num_leaves=[]\n",
        "mean_test_score = []\n",
        "for i in range(len(parameters['n_estimators'])):\n",
        "    for k in range(len(parameters['num_leaves'])):\n",
        "          model = lgb.LGBMClassifier(objective='multiclass', \n",
        "                          n_jobs=-1, \n",
        "                          is_unbalance=True, \n",
        "                          num_threads=8, \n",
        "                          two_round=True,\n",
        "                          bagging_fraction=0.9,\n",
        "                          bagging_freq=1,\n",
        "                          boosting_type='gbdt',\n",
        "                          feature_fraction=0.9,\n",
        "                          learning_rate=0.01,\n",
        "                          min_child_samples=10,\n",
        "                          min_child_weight=5,\n",
        "                          min_data_in_leaf=20,\n",
        "                          min_split_gain=0.0,\n",
        "                          n_estimators=parameters['n_estimators'][i],\n",
        "                          num_leaves=parameters['num_leaves'][k],\n",
        "                          reg_alpha=0.0,\n",
        "                          reg_lambda=0.0,\n",
        "                          subsample=1.0)\n",
        "          print(\"n_estimators: {}, num_leaves: {}\".format(parameters['n_estimators'][i], parameters['num_leaves'][k]))\n",
        "          train_models_pred, test_models_pred, summary, avg_logloss = model_CV_train(model, X_train_scaled, y, X_submission_scaled, n_classes=9, n_folds=5)\n",
        "          n_estimators.append(parameters['n_estimators'][i])\n",
        "          num_leaves.append(parameters['num_leaves'][k])\n",
        "          mean_test_score.append(avg_logloss)\n",
        "          end_time = time.time()\n",
        "# logging.info(\"Run complete: %s elapsed\" % elapsed_time(start_time, end_time))"
      ],
      "execution_count": 30,
      "outputs": [
        {
          "output_type": "stream",
          "text": [
            "n_estimators: 1700, num_leaves: 100\n",
            "  logloss: 0.450897\n",
            "model average logloss: 0.450897\n"
          ],
          "name": "stdout"
        }
      ]
    },
    {
      "cell_type": "code",
      "metadata": {
        "id": "-1vNeQtonqtA",
        "colab_type": "code",
        "outputId": "5697219f-1d86-4ecc-9154-3a9ec1e21ec8",
        "colab": {
          "base_uri": "https://localhost:8080/",
          "height": 50
        }
      },
      "source": [
        "print(train_models_pred.shape)\n",
        "print( test_models_pred.shape)"
      ],
      "execution_count": 31,
      "outputs": [
        {
          "output_type": "stream",
          "text": [
            "(61878, 9)\n",
            "(144368, 9)\n"
          ],
          "name": "stdout"
        }
      ]
    },
    {
      "cell_type": "code",
      "metadata": {
        "id": "iQxlSkJSeN9I",
        "colab_type": "code",
        "colab": {}
      },
      "source": [
        "test = pd.read_csv(\"applied/otto/test.csv\") \n",
        "test_ID = test['id']\n",
        "submit = pd.DataFrame()\n",
        "submit[\"id\"] = test_ID\n",
        "for i in range(9):\n",
        "  submit[\"Class_\" + str(i+1)] = test_models_pred[:,i]\n",
        "submit.to_csv(\"applied/otto/modelLGBM_test.csv\", index = False)"
      ],
      "execution_count": 0,
      "outputs": []
    },
    {
      "cell_type": "code",
      "metadata": {
        "id": "ZwwO1UL1Ks8Y",
        "colab_type": "code",
        "colab": {}
      },
      "source": [
        ""
      ],
      "execution_count": 0,
      "outputs": []
    }
  ]
}