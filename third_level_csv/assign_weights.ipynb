{
  "nbformat": 4,
  "nbformat_minor": 0,
  "metadata": {
    "colab": {
      "name": "assign_weights.ipynb",
      "provenance": [],
      "collapsed_sections": [],
      "toc_visible": true
    },
    "kernelspec": {
      "name": "python3",
      "display_name": "Python 3"
    },
    "accelerator": "TPU"
  },
  "cells": [
    {
      "cell_type": "code",
      "metadata": {
        "id": "qoFsJ4AppM8V",
        "colab_type": "code",
        "colab": {}
      },
      "source": [
        "import sys\n",
        "import logging\n",
        "\n",
        "import time\n",
        "import numpy as np\n",
        "import pandas as pd\n",
        "import os\n",
        "import csv\n",
        "\n",
        "from sklearn.model_selection import StratifiedKFold, StratifiedShuffleSplit\n",
        "from sklearn.metrics import log_loss\n",
        "from sklearn.preprocessing import StandardScaler\n",
        "from sklearn.decomposition import PCA\n",
        "from sklearn.manifold import TSNE\n",
        "from sklearn.linear_model import LogisticRegression\n",
        "from sklearn.ensemble import RandomForestClassifier, ExtraTreesClassifier\n",
        "from sklearn.neighbors import KNeighborsClassifier\n",
        "from sklearn.neighbors import NearestNeighbors\n",
        "from sklearn.ensemble import BaggingClassifier\n",
        "from sklearn.ensemble import AdaBoostClassifier\n",
        "from sklearn.tree import DecisionTreeClassifier\n",
        "import lightgbm as lgb\n",
        "from xgboost import XGBClassifier\n",
        "\n",
        "from keras.models import Sequential\n",
        "from keras.layers import Dense, Dropout\n",
        "from keras.wrappers.scikit_learn import KerasClassifier\n",
        "from keras.regularizers import l1_l2\n",
        "import pickle"
      ],
      "execution_count": 0,
      "outputs": []
    },
    {
      "cell_type": "markdown",
      "metadata": {
        "colab_type": "text",
        "id": "lQ8W2TGDcEZ8"
      },
      "source": [
        "## combine adaboost, catboost, NN, LGBM, xgboost "
      ]
    },
    {
      "cell_type": "code",
      "metadata": {
        "id": "0FEBWROx_loF",
        "colab_type": "code",
        "colab": {
          "base_uri": "https://localhost:8080/",
          "height": 34
        },
        "outputId": "a7c55011-bf6e-48dc-ad09-c815b07f8b17"
      },
      "source": [
        "## Catboost\n",
        "model1 = pd.read_csv(\"applied/otto/level2_model/level3/level2_Catboost_final.csv\", sep=',', header=0)\n",
        "## NN\n",
        "model2 = pd.read_csv(\"applied/otto/level2_model/level3/level_2_NN_final.csv\", sep=',', header=0)\n",
        "## LGBM\n",
        "model3 = pd.read_csv(\"applied/otto/level2_model/level3/level2_model_6_LGBM.csv\", sep=',', header=0)\n",
        "## xgboost\n",
        "model4 = pd.read_csv(\"applied/otto/level2_model/level3/level2_Xgboost.csv\", sep=',', header=None)\n",
        "\n",
        "level3= np.zeros([144368, 9, 4])\n",
        "level3[:,:,0] = model1.values[:,1:]\n",
        "level3[:,:,1] = model2.values[:,1:]\n",
        "level3[:,:,2] = model3.values[:,1:]\n",
        "level3[:,:,3] = model4.values\n",
        "weight = [10, 10, 45, 35]\n",
        "\n",
        "level3_weighted =  (level3[:,:,0]*weight[0] + level3[:,:,1]*weight[1] + level3[:,:,2] * weight[2] + level3[:,:,3]*weight[3]) / np.sum(weight)\n",
        "print('weight sum: ', np.sum(weight))"
      ],
      "execution_count": 106,
      "outputs": [
        {
          "output_type": "stream",
          "text": [
            "weight sum:  100\n"
          ],
          "name": "stdout"
        }
      ]
    },
    {
      "cell_type": "code",
      "metadata": {
        "id": "oUJ2DpHN_mn7",
        "colab_type": "code",
        "colab": {
          "base_uri": "https://localhost:8080/",
          "height": 34
        },
        "outputId": "9b544410-e960-40f6-9195-13f401acbb12"
      },
      "source": [
        "# 要存的csv的地址\n",
        "file_path = \"D:/applied/otto/level2_model/assign_weights/\"\n",
        "\n",
        "count = 0\n",
        "print(len(os.listdir(file_path)))\n",
        "if len(os.listdir(file_path)) == 0:\n",
        "     nth_file = str(1)\n",
        "else:\n",
        "    for i in range(len(os.listdir(file_path))):\n",
        "        if  ('level3_weighted_result_' + str(i+1) + '.csv') in os.listdir(file_path):\n",
        "          count += 1\n",
        "        nth_file = str(count+1)\n",
        "\n",
        "file_name = \"level3_weighted_result_\" + nth_file\n",
        "submit = pd.DataFrame()\n",
        "submit[\"id\"] = np.array(range(1, level3.shape[0] + 1 ))\n",
        "for j in range(9):\n",
        "  submit[\"Class_\" + str(j+1)] = level3_weighted[:,j]\n",
        "submit.to_csv(file_path + file_name + \".csv\", index = False)\n",
        "\n",
        "parameter_file_path = file_path + \"parameter.csv\"\n",
        "\n",
        "model_name = []\n",
        "catboost_parameters = []\n",
        "nn_parameters = []\n",
        "lgbm_parameters = []\n",
        "xgboost_parameters = []\n",
        "loss = []\n",
        "\n",
        "if os.path.exists(parameter_file_path):\n",
        "    previous_parameters = pd.read_csv(parameter_file_path, sep=',', header=0)\n",
        "    for i in range(previous_parameters.values.shape[0]):\n",
        "        model_name.append(previous_parameters.values[i][0])\n",
        "        catboost_parameters.append(previous_parameters.values[i][1])\n",
        "        nn_parameters.append(previous_parameters.values[i][2])\n",
        "        lgbm_parameters.append(previous_parameters.values[i][3])\n",
        "        xgboost_parameters.append(previous_parameters.values[i][4])\n",
        "        loss.append(previous_parameters.values[i][5])\n",
        "\n",
        "catboost_parameters.append(weight[0])\n",
        "nn_parameters.append(weight[1])\n",
        "lgbm_parameters.append(weight[2])\n",
        "xgboost_parameters.append(weight[3])\n",
        "model_name.append(file_name)\n",
        "loss.append(0)\n",
        "\n",
        "submit = pd.DataFrame()\n",
        "submit[\"model_name\"] = model_name\n",
        "submit[\"catboost\"] = catboost_parameters\n",
        "submit[\"nn\"] = nn_parameters\n",
        "submit[\"lgbm\"] = lgbm_parameters\n",
        "submit[\"xgboost\"] = xgboost_parameters\n",
        "submit[\"loss\"] = loss\n",
        "submit.to_csv(parameter_file_path, index = False)"
      ],
      "execution_count": 109,
      "outputs": [
        {
          "output_type": "stream",
          "text": [
            "4\n"
          ],
          "name": "stdout"
        }
      ]
    },
    {
      "cell_type": "code",
      "metadata": {
        "id": "X3YT-Jc7vzpy",
        "colab_type": "code",
        "colab": {}
      },
      "source": [
        ""
      ],
      "execution_count": 0,
      "outputs": []
    }
  ]
}